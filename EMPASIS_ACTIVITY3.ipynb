{
 "cells": [
  {
   "cell_type": "markdown",
   "id": "d556a139",
   "metadata": {},
   "source": [
    "# STRINGS"
   ]
  },
  {
   "cell_type": "markdown",
   "id": "8e041d8e",
   "metadata": {},
   "source": [
    "### 1. DEFINING A STRING\n",
    "\n",
    "Define an empty string and name it as **```text```**"
   ]
  },
  {
   "cell_type": "code",
   "execution_count": 1,
   "id": "18b69d41",
   "metadata": {},
   "outputs": [],
   "source": [
    "text = ''"
   ]
  },
  {
   "cell_type": "markdown",
   "id": "47c954c1",
   "metadata": {},
   "source": [
    "### 2. ASSIGNING A VARIABLE\n",
    "\n",
    "Assign the variable with **```“The old clock chimed midnight, echoing through the empty house.”```**"
   ]
  },
  {
   "cell_type": "code",
   "execution_count": 2,
   "id": "26d869a7",
   "metadata": {},
   "outputs": [],
   "source": [
    "text = \"The old clock chimed midnight, echoing through the empty house.\""
   ]
  },
  {
   "cell_type": "markdown",
   "id": "5613463f",
   "metadata": {},
   "source": [
    "### 3. ACCESSING STRING ELEMENTS USING INDEX\n",
    "\n",
    "Access the elements at **```index 5, index 15, index 32, and index 45```**. If the index is out of bounds, return **```None```**."
   ]
  },
  {
   "cell_type": "code",
   "execution_count": 3,
   "id": "cbf69794",
   "metadata": {},
   "outputs": [
    {
     "name": "stdout",
     "output_type": "stream",
     "text": [
      "l\n",
      "h\n",
      "c\n",
      "h\n"
     ]
    }
   ],
   "source": [
    "indices = [5, 15, 32, 45]\n",
    "\n",
    "for index in indices:\n",
    "    if index > len(text):\n",
    "        print(\"None\")\n",
    "        continue\n",
    "\n",
    "    print(text[index])"
   ]
  },
  {
   "cell_type": "markdown",
   "id": "b1761434",
   "metadata": {},
   "source": [
    "### 4. ACCESSING STRING ELEMENTS USING NEGATIVE INDEXING\n",
    "\n",
    "Access the last element, fifth-to-the last element, and eight-to-the-last element of the string using negative indexing."
   ]
  },
  {
   "cell_type": "code",
   "execution_count": 4,
   "id": "7b16e90d",
   "metadata": {},
   "outputs": [
    {
     "name": "stdout",
     "output_type": "stream",
     "text": [
      ".\n",
      "o\n",
      "y\n"
     ]
    }
   ],
   "source": [
    "print(text[-1])\n",
    "print(text[-5])\n",
    "print(text[-8])"
   ]
  },
  {
   "cell_type": "markdown",
   "id": "bb0c9f4b",
   "metadata": {},
   "source": [
    "### 5. SLICING OPERATOR\n",
    "\n",
    "Get a subset of string using slicing operator:"
   ]
  },
  {
   "cell_type": "code",
   "execution_count": 5,
   "id": "adc7fc67",
   "metadata": {},
   "outputs": [
    {
     "data": {
      "text/plain": [
       "'ock chimed midnight, echoing through the em'"
      ]
     },
     "execution_count": 5,
     "metadata": {},
     "output_type": "execute_result"
    }
   ],
   "source": [
    "text[10:-10]"
   ]
  },
  {
   "cell_type": "markdown",
   "id": "d14dfad9",
   "metadata": {},
   "source": [
    "5.1 Get the subset of **```text```** from index 30 to index -10"
   ]
  },
  {
   "cell_type": "code",
   "execution_count": 6,
   "id": "9acab24f",
   "metadata": {},
   "outputs": [
    {
     "data": {
      "text/plain": [
       "' echoing through the em'"
      ]
     },
     "execution_count": 6,
     "metadata": {},
     "output_type": "execute_result"
    }
   ],
   "source": [
    "text[30:-10]"
   ]
  },
  {
   "cell_type": "markdown",
   "id": "2f70a6a7",
   "metadata": {},
   "source": [
    "5.2 Get the subset of **```text```** from index 0 to index -20"
   ]
  },
  {
   "cell_type": "code",
   "execution_count": 7,
   "id": "d646e9c3",
   "metadata": {},
   "outputs": [
    {
     "data": {
      "text/plain": [
       "'The old clock chimed midnight, echoing thro'"
      ]
     },
     "execution_count": 7,
     "metadata": {},
     "output_type": "execute_result"
    }
   ],
   "source": [
    "text[:-20]"
   ]
  },
  {
   "cell_type": "markdown",
   "id": "c4a23605",
   "metadata": {},
   "source": [
    "5.3 Get the subset of **```text```** from index 0 till the last element where step is 6"
   ]
  },
  {
   "cell_type": "code",
   "execution_count": 8,
   "id": "e44e0820",
   "metadata": {},
   "outputs": [
    {
     "data": {
      "text/plain": [
       "'Tdken nohts'"
      ]
     },
     "execution_count": 8,
     "metadata": {},
     "output_type": "execute_result"
    }
   ],
   "source": [
    "text[::6]"
   ]
  },
  {
   "cell_type": "markdown",
   "id": "bd19f070",
   "metadata": {},
   "source": [
    "### 6. STRING MANIPULATIONS"
   ]
  },
  {
   "cell_type": "markdown",
   "id": "db6b9825",
   "metadata": {},
   "source": [
    "6.1 Change all characters in a string to lowercase"
   ]
  },
  {
   "cell_type": "code",
   "execution_count": 9,
   "id": "b4cea5d6",
   "metadata": {},
   "outputs": [
    {
     "data": {
      "text/plain": [
       "'the old clock chimed midnight, echoing through the empty house.'"
      ]
     },
     "execution_count": 9,
     "metadata": {},
     "output_type": "execute_result"
    }
   ],
   "source": [
    "text.lower()"
   ]
  },
  {
   "cell_type": "markdown",
   "id": "7f4a32ff",
   "metadata": {},
   "source": [
    "6.2 Change all characters in a string to uppercase"
   ]
  },
  {
   "cell_type": "code",
   "execution_count": 10,
   "id": "5411a19d",
   "metadata": {},
   "outputs": [
    {
     "data": {
      "text/plain": [
       "'THE OLD CLOCK CHIMED MIDNIGHT, ECHOING THROUGH THE EMPTY HOUSE.'"
      ]
     },
     "execution_count": 10,
     "metadata": {},
     "output_type": "execute_result"
    }
   ],
   "source": [
    "text.upper()"
   ]
  },
  {
   "cell_type": "markdown",
   "id": "e0cb5705",
   "metadata": {},
   "source": [
    "6.3 Split the string into substrings where the delimiter is a space"
   ]
  },
  {
   "cell_type": "code",
   "execution_count": 11,
   "id": "bd0d6876",
   "metadata": {},
   "outputs": [
    {
     "data": {
      "text/plain": [
       "['The',\n",
       " 'old',\n",
       " 'clock',\n",
       " 'chimed',\n",
       " 'midnight,',\n",
       " 'echoing',\n",
       " 'through',\n",
       " 'the',\n",
       " 'empty',\n",
       " 'house.']"
      ]
     },
     "execution_count": 11,
     "metadata": {},
     "output_type": "execute_result"
    }
   ],
   "source": [
    "text.split(' ')"
   ]
  },
  {
   "cell_type": "markdown",
   "id": "73c01fb1",
   "metadata": {},
   "source": [
    "### 7. REPLACE STRINGS"
   ]
  },
  {
   "cell_type": "markdown",
   "id": "277dce50",
   "metadata": {},
   "source": [
    "7.1 Replace **```“old clock”```** with **```“freshly painted clock”```**"
   ]
  },
  {
   "cell_type": "code",
   "execution_count": 12,
   "id": "a5e71a39",
   "metadata": {},
   "outputs": [
    {
     "data": {
      "text/plain": [
       "'The freshly painted clock chimed midnight, echoing through the empty house.'"
      ]
     },
     "execution_count": 12,
     "metadata": {},
     "output_type": "execute_result"
    }
   ],
   "source": [
    "text.replace(\"old clock\", \"freshly painted clock\")"
   ]
  },
  {
   "cell_type": "markdown",
   "id": "57ee1697",
   "metadata": {},
   "source": [
    "7.2 Replace **```“chimed”```** with **```“chimes”```**"
   ]
  },
  {
   "cell_type": "code",
   "execution_count": 13,
   "id": "4916ab1e",
   "metadata": {},
   "outputs": [
    {
     "data": {
      "text/plain": [
       "'The old clock chimes midnight, echoing through the empty house.'"
      ]
     },
     "execution_count": 13,
     "metadata": {},
     "output_type": "execute_result"
    }
   ],
   "source": [
    "text.replace(\"chimed\", \"chimes\")"
   ]
  },
  {
   "cell_type": "markdown",
   "id": "47a2edcb",
   "metadata": {},
   "source": [
    "7.3 Replace **```“g”```** with **```“f”```**"
   ]
  },
  {
   "cell_type": "code",
   "execution_count": 14,
   "id": "677f314f",
   "metadata": {},
   "outputs": [
    {
     "data": {
      "text/plain": [
       "'The old clock chimed midnifht, echoinf throufh the empty house.'"
      ]
     },
     "execution_count": 14,
     "metadata": {},
     "output_type": "execute_result"
    }
   ],
   "source": [
    "text.replace('g', 'f')"
   ]
  },
  {
   "cell_type": "markdown",
   "id": "8adab35c",
   "metadata": {},
   "source": [
    "### 8. LOOP STRINGS"
   ]
  },
  {
   "cell_type": "markdown",
   "id": "75304627",
   "metadata": {},
   "source": [
    "8.1 Using the **```range()```** method"
   ]
  },
  {
   "cell_type": "code",
   "execution_count": 15,
   "id": "6a0ea11a",
   "metadata": {},
   "outputs": [
    {
     "name": "stdout",
     "output_type": "stream",
     "text": [
      "T\n",
      "h\n",
      "e\n",
      " \n",
      "o\n",
      "l\n",
      "d\n",
      " \n",
      "c\n",
      "l\n",
      "o\n",
      "c\n",
      "k\n",
      " \n",
      "c\n",
      "h\n",
      "i\n",
      "m\n",
      "e\n",
      "d\n",
      " \n",
      "m\n",
      "i\n",
      "d\n",
      "n\n",
      "i\n",
      "g\n",
      "h\n",
      "t\n",
      ",\n",
      " \n",
      "e\n",
      "c\n",
      "h\n",
      "o\n",
      "i\n",
      "n\n",
      "g\n",
      " \n",
      "t\n",
      "h\n",
      "r\n",
      "o\n",
      "u\n",
      "g\n",
      "h\n",
      " \n",
      "t\n",
      "h\n",
      "e\n",
      " \n",
      "e\n",
      "m\n",
      "p\n",
      "t\n",
      "y\n",
      " \n",
      "h\n",
      "o\n",
      "u\n",
      "s\n",
      "e\n",
      ".\n"
     ]
    }
   ],
   "source": [
    "for c in range(len(text)):\n",
    "    print(text[c])"
   ]
  },
  {
   "cell_type": "markdown",
   "id": "a385826a",
   "metadata": {},
   "source": [
    "8.2 Using the syntax **```for var in obj```**"
   ]
  },
  {
   "cell_type": "code",
   "execution_count": 16,
   "id": "2336a83f",
   "metadata": {},
   "outputs": [
    {
     "name": "stdout",
     "output_type": "stream",
     "text": [
      "T\n",
      "h\n",
      "e\n",
      " \n",
      "o\n",
      "l\n",
      "d\n",
      " \n",
      "c\n",
      "l\n",
      "o\n",
      "c\n",
      "k\n",
      " \n",
      "c\n",
      "h\n",
      "i\n",
      "m\n",
      "e\n",
      "d\n",
      " \n",
      "m\n",
      "i\n",
      "d\n",
      "n\n",
      "i\n",
      "g\n",
      "h\n",
      "t\n",
      ",\n",
      " \n",
      "e\n",
      "c\n",
      "h\n",
      "o\n",
      "i\n",
      "n\n",
      "g\n",
      " \n",
      "t\n",
      "h\n",
      "r\n",
      "o\n",
      "u\n",
      "g\n",
      "h\n",
      " \n",
      "t\n",
      "h\n",
      "e\n",
      " \n",
      "e\n",
      "m\n",
      "p\n",
      "t\n",
      "y\n",
      " \n",
      "h\n",
      "o\n",
      "u\n",
      "s\n",
      "e\n",
      ".\n"
     ]
    }
   ],
   "source": [
    "for c in text:\n",
    "    print(c)"
   ]
  },
  {
   "cell_type": "markdown",
   "id": "996c56b1",
   "metadata": {},
   "source": [
    "# LISTS"
   ]
  },
  {
   "cell_type": "markdown",
   "id": "72d2187e",
   "metadata": {},
   "source": [
    "### 1. DEFINING A LIST\n",
    "\n",
    "Define an empty list and name it as **```my_lists```**"
   ]
  },
  {
   "cell_type": "code",
   "execution_count": 17,
   "id": "3d7bdc8d",
   "metadata": {},
   "outputs": [],
   "source": [
    "my_lists = []"
   ]
  },
  {
   "cell_type": "markdown",
   "id": "62db9e9a",
   "metadata": {},
   "source": [
    "Add the following elements in the list **```[“apples”, “money”, 20, 3.14, “cherry”, “tomatoes”]```**"
   ]
  },
  {
   "cell_type": "code",
   "execution_count": 18,
   "id": "886dd1b5",
   "metadata": {},
   "outputs": [
    {
     "name": "stdout",
     "output_type": "stream",
     "text": [
      "['apples', 'money', 20, 3.14, 'cherry', 'tomatoes']\n"
     ]
    }
   ],
   "source": [
    "my_lists += [\"apples\", \"money\", 20, 3.14, \"cherry\", \"tomatoes\"]\n",
    "print(my_lists)"
   ]
  },
  {
   "cell_type": "markdown",
   "id": "a1540658",
   "metadata": {},
   "source": [
    "### 2. ACCESSING LIST ELEMENTS USING INDEX\n",
    "\n",
    "Access the elements at **```index 0, index 5, index 7, and index 9```**. If the index is out of bounds, return **```None```**."
   ]
  },
  {
   "cell_type": "code",
   "execution_count": 19,
   "id": "a56143e5",
   "metadata": {},
   "outputs": [
    {
     "name": "stdout",
     "output_type": "stream",
     "text": [
      "apples\n",
      "tomatoes\n",
      "None\n",
      "None\n"
     ]
    }
   ],
   "source": [
    "indices = (0, 5, 7, 9)\n",
    "\n",
    "for index in indices:\n",
    "    if index > len(my_lists) or index < 0:\n",
    "        print(\"None\")\n",
    "        continue\n",
    "    print(my_lists[index])"
   ]
  },
  {
   "cell_type": "markdown",
   "id": "0952967d",
   "metadata": {},
   "source": [
    "### 3. ACCESSING LIST ELEMENTS USING  NEGATIVE INDEXING\n",
    "\n",
    "Access the last element, second-to-the last element, and third-to-the-last element of **```my_lists```** using negative indexing."
   ]
  },
  {
   "cell_type": "code",
   "execution_count": 20,
   "id": "2bdfb19e",
   "metadata": {},
   "outputs": [
    {
     "name": "stdout",
     "output_type": "stream",
     "text": [
      "tomatoes\n",
      "cherry\n",
      "3.14\n"
     ]
    }
   ],
   "source": [
    "print(my_lists[-1])\n",
    "print(my_lists[-2])\n",
    "print(my_lists[-3])"
   ]
  },
  {
   "cell_type": "markdown",
   "id": "575d8583",
   "metadata": {},
   "source": [
    "### 4. SLICING OPERATOR\n",
    "\n",
    "Get a subset of **```my_lists```** using the slicing operator. \n",
    "\n",
    "*Note make sure that you have checked first if the index is not out of bounds before doing the slicing operator.*"
   ]
  },
  {
   "cell_type": "markdown",
   "id": "291137e0",
   "metadata": {},
   "source": [
    "4.1 Get the subset of **```my_lists```** from index 0 to the third-to-the last element"
   ]
  },
  {
   "cell_type": "code",
   "execution_count": 21,
   "id": "628512c2",
   "metadata": {},
   "outputs": [
    {
     "data": {
      "text/plain": [
       "[20, 3.14]"
      ]
     },
     "execution_count": 21,
     "metadata": {},
     "output_type": "execute_result"
    }
   ],
   "source": [
    "my_lists[2:-2]"
   ]
  },
  {
   "cell_type": "markdown",
   "id": "2e63d337",
   "metadata": {},
   "source": [
    "4.2 Get the subset of **```my_lists```** from index 3 to the second-to-the last element"
   ]
  },
  {
   "cell_type": "code",
   "execution_count": 22,
   "id": "2197ceb3",
   "metadata": {},
   "outputs": [
    {
     "data": {
      "text/plain": [
       "[3.14]"
      ]
     },
     "execution_count": 22,
     "metadata": {},
     "output_type": "execute_result"
    }
   ],
   "source": [
    "my_lists[3:-2]"
   ]
  },
  {
   "cell_type": "markdown",
   "id": "d05f9f84",
   "metadata": {},
   "source": [
    "4.3 Get the subset of **```my_lists```** from index 0 to index 5 where step is 2"
   ]
  },
  {
   "cell_type": "code",
   "execution_count": 23,
   "id": "4986c4b0",
   "metadata": {},
   "outputs": [
    {
     "data": {
      "text/plain": [
       "['apples', 20, 'cherry']"
      ]
     },
     "execution_count": 23,
     "metadata": {},
     "output_type": "execute_result"
    }
   ],
   "source": [
    "my_lists[:5:2]"
   ]
  },
  {
   "cell_type": "markdown",
   "id": "1ebd2588",
   "metadata": {},
   "source": [
    "### 5. ADDING AND REMOVING LIST ELEMENTS\n",
    "\n",
    "Perform the following list operations in **```my_lists```**"
   ]
  },
  {
   "cell_type": "markdown",
   "id": "b11b1be7",
   "metadata": {},
   "source": [
    "5.1 Add a new element **```“holiday”```** and insert it at the end of the list"
   ]
  },
  {
   "cell_type": "code",
   "execution_count": 24,
   "id": "f3cdce80",
   "metadata": {},
   "outputs": [
    {
     "name": "stdout",
     "output_type": "stream",
     "text": [
      "['apples', 'money', 20, 3.14, 'cherry', 'tomatoes', 'holiday']\n"
     ]
    }
   ],
   "source": [
    "my_lists.append(\"holiday\")\n",
    "print(my_lists)"
   ]
  },
  {
   "cell_type": "markdown",
   "id": "8092eae2",
   "metadata": {},
   "source": [
    "5.2 Add a new element **```87.69```** and insert it at index 3"
   ]
  },
  {
   "cell_type": "code",
   "execution_count": 25,
   "id": "3d37fd19",
   "metadata": {},
   "outputs": [
    {
     "name": "stdout",
     "output_type": "stream",
     "text": [
      "['apples', 'money', 20, 87.69, 3.14, 'cherry', 'tomatoes', 'holiday']\n"
     ]
    }
   ],
   "source": [
    "my_lists.insert(3, 87.69)\n",
    "print(my_lists)"
   ]
  },
  {
   "cell_type": "markdown",
   "id": "852e1ed5",
   "metadata": {},
   "source": [
    "5.3 Remove the last element "
   ]
  },
  {
   "cell_type": "code",
   "execution_count": 26,
   "id": "e3f692c4",
   "metadata": {},
   "outputs": [
    {
     "name": "stdout",
     "output_type": "stream",
     "text": [
      "['apples', 'money', 20, 87.69, 3.14, 'cherry', 'tomatoes']\n"
     ]
    }
   ],
   "source": [
    "my_lists.pop(len(my_lists) - 1)\n",
    "print(my_lists)"
   ]
  },
  {
   "cell_type": "markdown",
   "id": "84dbb493",
   "metadata": {},
   "source": [
    "5.4 Remove the element at **```index 4```**"
   ]
  },
  {
   "cell_type": "code",
   "execution_count": 27,
   "id": "e127139d",
   "metadata": {},
   "outputs": [
    {
     "name": "stdout",
     "output_type": "stream",
     "text": [
      "['apples', 'money', 20, 87.69, 'cherry', 'tomatoes']\n"
     ]
    }
   ],
   "source": [
    "my_lists.pop(4)\n",
    "print(my_lists)"
   ]
  },
  {
   "cell_type": "markdown",
   "id": "f0636d44",
   "metadata": {},
   "source": [
    "5.5 Remove element **```3.14```** from the list. If the element does not exist, then return **```None```**."
   ]
  },
  {
   "cell_type": "code",
   "execution_count": 28,
   "id": "c6c5688e",
   "metadata": {},
   "outputs": [
    {
     "name": "stdout",
     "output_type": "stream",
     "text": [
      "None\n"
     ]
    }
   ],
   "source": [
    "try:\n",
    "    my_lists.pop(my_lists.index(3.14))\n",
    "except:\n",
    "    print(\"None\")"
   ]
  },
  {
   "cell_type": "markdown",
   "id": "080def1a",
   "metadata": {},
   "source": [
    "### 6. CREATE A NEW LIST\n",
    "\n",
    "Define a new list **```numbers = [1, 9, 7, 65, 87, 586, 900, 25, 95, 87]```**"
   ]
  },
  {
   "cell_type": "code",
   "execution_count": 29,
   "id": "dc1b2573",
   "metadata": {},
   "outputs": [],
   "source": [
    "numbers = [1, 9, 7, 65, 87, 586, 900, 25, 95, 87]"
   ]
  },
  {
   "cell_type": "markdown",
   "id": "ac83492c",
   "metadata": {},
   "source": [
    "### 7. MODIFYING LIST ELEMENTS\n",
    "\n",
    "Perform the following operations in **```numbers```**"
   ]
  },
  {
   "cell_type": "markdown",
   "id": "09b95d1a",
   "metadata": {},
   "source": [
    "7.1 Replace the value at **```index 5```** to 100"
   ]
  },
  {
   "cell_type": "code",
   "execution_count": 30,
   "id": "41d620ff",
   "metadata": {},
   "outputs": [
    {
     "name": "stdout",
     "output_type": "stream",
     "text": [
      "[1, 9, 7, 65, 87, 100, 900, 25, 95, 87]\n"
     ]
    }
   ],
   "source": [
    "numbers[5] = 100\n",
    "print(numbers)"
   ]
  },
  {
   "cell_type": "markdown",
   "id": "5f5f7bb0",
   "metadata": {},
   "source": [
    "7.2 Modify the value at **```index 7```** by adding 10 to its original value"
   ]
  },
  {
   "cell_type": "code",
   "execution_count": 31,
   "id": "af746c27",
   "metadata": {},
   "outputs": [
    {
     "name": "stdout",
     "output_type": "stream",
     "text": [
      "[1, 9, 7, 65, 87, 100, 900, 35, 95, 87]\n"
     ]
    }
   ],
   "source": [
    "numbers[7] += 10\n",
    "print(numbers)"
   ]
  },
  {
   "cell_type": "markdown",
   "id": "04f50b60",
   "metadata": {},
   "source": [
    "7.3 Modify the value at **```index 3```** by dividing it by 5"
   ]
  },
  {
   "cell_type": "code",
   "execution_count": 32,
   "id": "674d81e7",
   "metadata": {},
   "outputs": [
    {
     "name": "stdout",
     "output_type": "stream",
     "text": [
      "[1, 9, 7, 13.0, 87, 100, 900, 35, 95, 87]\n"
     ]
    }
   ],
   "source": [
    "numbers[3] /= 5\n",
    "print(numbers)"
   ]
  },
  {
   "cell_type": "markdown",
   "id": "6add6a62",
   "metadata": {},
   "source": [
    "### 8. LOOP THE ELEMENTS IN A LIST"
   ]
  },
  {
   "cell_type": "markdown",
   "id": "69ed08ae",
   "metadata": {},
   "source": [
    "8.1 Using the **```range()```** method"
   ]
  },
  {
   "cell_type": "code",
   "execution_count": 33,
   "id": "f94ee437",
   "metadata": {},
   "outputs": [
    {
     "name": "stdout",
     "output_type": "stream",
     "text": [
      "1\n",
      "9\n",
      "7\n",
      "13.0\n",
      "87\n",
      "100\n",
      "900\n",
      "35\n",
      "95\n",
      "87\n"
     ]
    }
   ],
   "source": [
    "for i in range(len(numbers)):\n",
    "    print(numbers[i])"
   ]
  },
  {
   "cell_type": "markdown",
   "id": "b8101a54",
   "metadata": {},
   "source": [
    "8.2 Using the syntax: **```for var in obj```**"
   ]
  },
  {
   "cell_type": "code",
   "execution_count": 34,
   "id": "8539dccd",
   "metadata": {},
   "outputs": [
    {
     "name": "stdout",
     "output_type": "stream",
     "text": [
      "1\n",
      "9\n",
      "7\n",
      "13.0\n",
      "87\n",
      "100\n",
      "900\n",
      "35\n",
      "95\n",
      "87\n"
     ]
    }
   ],
   "source": [
    "for n in numbers:\n",
    "    print(n)"
   ]
  },
  {
   "cell_type": "markdown",
   "id": "1d69f6e3",
   "metadata": {},
   "source": [
    "### 9. SORTING LIST ELEMENTS"
   ]
  },
  {
   "cell_type": "markdown",
   "id": "a1e22b50",
   "metadata": {},
   "source": [
    "9.1 Sort the list in ascending order"
   ]
  },
  {
   "cell_type": "code",
   "execution_count": 35,
   "id": "ba2e8a33",
   "metadata": {},
   "outputs": [
    {
     "name": "stdout",
     "output_type": "stream",
     "text": [
      "[1, 7, 9, 13.0, 35, 87, 87, 95, 100, 900]\n"
     ]
    }
   ],
   "source": [
    "numbers.sort()\n",
    "print(numbers)"
   ]
  },
  {
   "cell_type": "markdown",
   "id": "0769f08f",
   "metadata": {},
   "source": [
    "9.2 Sort the list in descending order"
   ]
  },
  {
   "cell_type": "code",
   "execution_count": 36,
   "id": "4c366b43",
   "metadata": {},
   "outputs": [
    {
     "name": "stdout",
     "output_type": "stream",
     "text": [
      "[900, 100, 95, 87, 87, 35, 13.0, 9, 7, 1]\n"
     ]
    }
   ],
   "source": [
    "numbers.sort(reverse=True)\n",
    "print(numbers)"
   ]
  },
  {
   "cell_type": "markdown",
   "id": "7e18e9d5",
   "metadata": {},
   "source": [
    "### 10. DEFINING A NEW LIST\n",
    "\n",
    "Create a new list **```days = [“Monday”, “Tuesday”, “Wednesday”, “Thursday”, “Friday”]```**"
   ]
  },
  {
   "cell_type": "code",
   "execution_count": 37,
   "id": "6c62fb26",
   "metadata": {},
   "outputs": [],
   "source": [
    "days = [\"Monday\", \"Tuesday\", \"Wednesday\", \"Thursday\", \"Friday\"]"
   ]
  },
  {
   "cell_type": "markdown",
   "id": "47feb29e",
   "metadata": {},
   "source": [
    "### 11. LIST COPY"
   ]
  },
  {
   "cell_type": "markdown",
   "id": "bfafd706",
   "metadata": {},
   "source": [
    "11.1 Create a copy of **```days```** and name it as **```days_copy```**"
   ]
  },
  {
   "cell_type": "code",
   "execution_count": 38,
   "id": "3db05757",
   "metadata": {},
   "outputs": [
    {
     "name": "stdout",
     "output_type": "stream",
     "text": [
      "['Monday', 'Tuesday', 'Wednesday', 'Thursday', 'Friday']\n"
     ]
    }
   ],
   "source": [
    "days_copy = days.copy()\n",
    "print(days_copy)"
   ]
  },
  {
   "cell_type": "markdown",
   "id": "7e81768d",
   "metadata": {},
   "source": [
    "11.2 Add a new element **```“Saturday”```** in **```days```** "
   ]
  },
  {
   "cell_type": "code",
   "execution_count": 39,
   "id": "0f4ccb32",
   "metadata": {},
   "outputs": [
    {
     "name": "stdout",
     "output_type": "stream",
     "text": [
      "['Monday', 'Tuesday', 'Wednesday', 'Thursday', 'Friday', 'Saturday']\n"
     ]
    }
   ],
   "source": [
    "days.append(\"Saturday\")\n",
    "print(days)"
   ]
  },
  {
   "cell_type": "markdown",
   "id": "af4cfa64",
   "metadata": {},
   "source": [
    "11.3 Check how this affects **```days_copy```**. Will it also be affected or not?"
   ]
  },
  {
   "cell_type": "code",
   "execution_count": 40,
   "id": "0cc1e66e",
   "metadata": {},
   "outputs": [
    {
     "name": "stdout",
     "output_type": "stream",
     "text": [
      "['Monday', 'Tuesday', 'Wednesday', 'Thursday', 'Friday']\n"
     ]
    }
   ],
   "source": [
    "print(days_copy)\n",
    "# Not affected"
   ]
  },
  {
   "cell_type": "markdown",
   "id": "f74002d6",
   "metadata": {},
   "source": [
    "### 12. JOIN TWO LISTS\n",
    "\n",
    "Combine the elements of **```numbers```** and **```days```**"
   ]
  },
  {
   "cell_type": "markdown",
   "id": "16fd0033",
   "metadata": {},
   "source": [
    "12.1 Using the **```+```** operator"
   ]
  },
  {
   "cell_type": "code",
   "execution_count": 41,
   "id": "b8b0d526",
   "metadata": {},
   "outputs": [
    {
     "name": "stdout",
     "output_type": "stream",
     "text": [
      "[900, 100, 95, 87, 87, 35, 13.0, 9, 7, 1, 'Monday', 'Tuesday', 'Wednesday', 'Thursday', 'Friday', 'Saturday']\n"
     ]
    }
   ],
   "source": [
    "new_list = numbers + days\n",
    "print(new_list)"
   ]
  },
  {
   "cell_type": "markdown",
   "id": "8a26c479",
   "metadata": {},
   "source": [
    "12.2 Using the **```append()```** method"
   ]
  },
  {
   "cell_type": "code",
   "execution_count": 42,
   "id": "b76285b3",
   "metadata": {},
   "outputs": [
    {
     "name": "stdout",
     "output_type": "stream",
     "text": [
      "[900, 100, 95, 87, 87, 35, 13.0, 9, 7, 1, ['Monday', 'Tuesday', 'Wednesday', 'Thursday', 'Friday', 'Saturday']]\n"
     ]
    }
   ],
   "source": [
    "numbers.append(days)\n",
    "print(numbers)              "
   ]
  },
  {
   "cell_type": "markdown",
   "id": "bf39a2fa",
   "metadata": {},
   "source": [
    "12.3 Using the **```extend()```** method"
   ]
  },
  {
   "cell_type": "code",
   "execution_count": 43,
   "id": "6eb330c2",
   "metadata": {},
   "outputs": [
    {
     "name": "stdout",
     "output_type": "stream",
     "text": [
      "[900, 100, 95, 87, 87, 35, 13.0, 9, 7, 1, ['Monday', 'Tuesday', 'Wednesday', 'Thursday', 'Friday', 'Saturday'], 'Monday', 'Tuesday', 'Wednesday', 'Thursday', 'Friday', 'Saturday']\n"
     ]
    }
   ],
   "source": [
    "numbers.extend(days)\n",
    "print(numbers)"
   ]
  },
  {
   "cell_type": "markdown",
   "id": "2c9f231c",
   "metadata": {},
   "source": [
    "### 13. UNPACKING LIST ELEMENTS\n",
    "\n",
    "Unpack the elements in **```days```**. Using these variables: **```day1, day2, other_days```**"
   ]
  },
  {
   "cell_type": "code",
   "execution_count": 44,
   "id": "07293568",
   "metadata": {},
   "outputs": [
    {
     "name": "stdout",
     "output_type": "stream",
     "text": [
      "Monday\n",
      "Tuesday\n",
      "['Wednesday', 'Thursday', 'Friday', 'Saturday']\n"
     ]
    }
   ],
   "source": [
    "day1, day2, *other_days = days\n",
    "print(day1)\n",
    "print(day2)\n",
    "print(other_days)"
   ]
  },
  {
   "cell_type": "markdown",
   "id": "ad191689",
   "metadata": {},
   "source": [
    "# TUPLE"
   ]
  },
  {
   "cell_type": "markdown",
   "id": "eb69dde0",
   "metadata": {},
   "source": [
    "### 1. DEFINING A TUPLE\n",
    "\n",
    "Define a tuple. \n",
    "\n",
    "**```fruits = (\"strawberry\", \"orange\", \"banana\", \"apple\", \"mango\")```**"
   ]
  },
  {
   "cell_type": "code",
   "execution_count": 45,
   "id": "0dafd955",
   "metadata": {},
   "outputs": [],
   "source": [
    "fruits = (\"strawberry\", \"orange\", \"banana\", \"apple\", \"mango\")"
   ]
  },
  {
   "cell_type": "markdown",
   "id": "dcd82bdc",
   "metadata": {},
   "source": [
    "### 2. ACCESSING ELEMENTS IN A TUPLE USING INDEXING\n",
    "\n",
    "Access the elements at **```index 0, index 3, and index 6```**. If the index is out of bounds, return **```None```**."
   ]
  },
  {
   "cell_type": "code",
   "execution_count": 46,
   "id": "8e0437d5",
   "metadata": {},
   "outputs": [
    {
     "name": "stdout",
     "output_type": "stream",
     "text": [
      "strawberry\n",
      "apple\n",
      "None\n"
     ]
    }
   ],
   "source": [
    "indices = [0, 3, 6]\n",
    "\n",
    "for i in indices:\n",
    "    if i > len(fruits) or i < 0:\n",
    "        print(\"None\")\n",
    "        continue\n",
    "    print(fruits[i])"
   ]
  },
  {
   "cell_type": "markdown",
   "id": "d09172c7",
   "metadata": {},
   "source": [
    "### 3. ACCESSING ELEMENTS IN A TUPLE USING NEGATIVE INDEXING\n",
    "\n",
    "Access the last element, second-to-the last element, and third-to-the-last element of **```fruits```** using negative indexing."
   ]
  },
  {
   "cell_type": "code",
   "execution_count": 47,
   "id": "84616eee",
   "metadata": {},
   "outputs": [
    {
     "name": "stdout",
     "output_type": "stream",
     "text": [
      "mango\n",
      "apple\n",
      "banana\n"
     ]
    }
   ],
   "source": [
    "print(fruits[-1])\n",
    "print(fruits[-2])\n",
    "print(fruits[-3])"
   ]
  },
  {
   "cell_type": "markdown",
   "id": "d93ae886",
   "metadata": {},
   "source": [
    "### 4. SLICING OPERATOR\n",
    "\n",
    "Get the subset of tuples using the slicing operator"
   ]
  },
  {
   "cell_type": "markdown",
   "id": "8015cbb4",
   "metadata": {},
   "source": [
    "4.1 Get the subset of tuples from index 1 to the last element"
   ]
  },
  {
   "cell_type": "code",
   "execution_count": 48,
   "id": "164b38f7",
   "metadata": {},
   "outputs": [
    {
     "name": "stdout",
     "output_type": "stream",
     "text": [
      "('orange', 'banana', 'apple', 'mango')\n"
     ]
    }
   ],
   "source": [
    "print(fruits[1:])"
   ]
  },
  {
   "cell_type": "markdown",
   "id": "8d0c7ce9",
   "metadata": {},
   "source": [
    "4.2 Get the subset of tuples from index 0 to the second-to-the last element"
   ]
  },
  {
   "cell_type": "code",
   "execution_count": 49,
   "id": "0de6bd9c",
   "metadata": {},
   "outputs": [
    {
     "name": "stdout",
     "output_type": "stream",
     "text": [
      "('strawberry', 'orange', 'banana')\n"
     ]
    }
   ],
   "source": [
    "print(fruits[0:-2])"
   ]
  },
  {
   "cell_type": "markdown",
   "id": "20be8202",
   "metadata": {},
   "source": [
    "4.3 Get the subset of tuples from index 0 to the last element where **step is 3**"
   ]
  },
  {
   "cell_type": "code",
   "execution_count": 50,
   "id": "bfed741b",
   "metadata": {},
   "outputs": [
    {
     "name": "stdout",
     "output_type": "stream",
     "text": [
      "('strawberry', 'apple')\n"
     ]
    }
   ],
   "source": [
    "print(fruits[0::3])"
   ]
  },
  {
   "cell_type": "markdown",
   "id": "cbd89e6a",
   "metadata": {},
   "source": [
    "### 5. CONVERTING A TUPLE INTO A LIST\n",
    "\n",
    "Convert the tuple into a list and do the following operations:"
   ]
  },
  {
   "cell_type": "markdown",
   "id": "6894e8de",
   "metadata": {},
   "source": [
    "5.1 Add the elements **```“mango”, “watermelon”```** to the end of the list"
   ]
  },
  {
   "cell_type": "code",
   "execution_count": 51,
   "id": "26a67eb5",
   "metadata": {},
   "outputs": [
    {
     "name": "stdout",
     "output_type": "stream",
     "text": [
      "['strawberry', 'orange', 'banana', 'apple', 'mango', 'mango', 'watermelon']\n"
     ]
    }
   ],
   "source": [
    "fruits = list(fruits)\n",
    "fruits.append(\"mango\")\n",
    "fruits.append(\"watermelon\")\n",
    "print(fruits)"
   ]
  },
  {
   "cell_type": "markdown",
   "id": "ca002cfd",
   "metadata": {},
   "source": [
    "5.2 Insert the element **```“grapes”```** at index 2"
   ]
  },
  {
   "cell_type": "code",
   "execution_count": 52,
   "id": "cb96ff2b",
   "metadata": {},
   "outputs": [
    {
     "name": "stdout",
     "output_type": "stream",
     "text": [
      "['strawberry', 'orange', 'grapes', 'banana', 'apple', 'mango', 'mango', 'watermelon']\n"
     ]
    }
   ],
   "source": [
    "fruits.insert(2, \"grapes\")\n",
    "print(fruits)"
   ]
  },
  {
   "cell_type": "markdown",
   "id": "e721ac0e",
   "metadata": {},
   "source": [
    "5.3 Remove the last element in the list"
   ]
  },
  {
   "cell_type": "code",
   "execution_count": 53,
   "id": "bfa572da",
   "metadata": {},
   "outputs": [
    {
     "name": "stdout",
     "output_type": "stream",
     "text": [
      "['strawberry', 'orange', 'grapes', 'banana', 'apple', 'mango', 'mango']\n"
     ]
    }
   ],
   "source": [
    "fruits.pop(len(fruits) - 1)\n",
    "print(fruits)"
   ]
  },
  {
   "cell_type": "markdown",
   "id": "ad45e919",
   "metadata": {},
   "source": [
    "5.4 Remove the element at index 3 in the list"
   ]
  },
  {
   "cell_type": "code",
   "execution_count": 54,
   "id": "78c3be0e",
   "metadata": {},
   "outputs": [
    {
     "name": "stdout",
     "output_type": "stream",
     "text": [
      "['strawberry', 'orange', 'grapes', 'apple', 'mango', 'mango']\n"
     ]
    }
   ],
   "source": [
    "fruits.pop(3)\n",
    "print(fruits)"
   ]
  },
  {
   "cell_type": "markdown",
   "id": "6e1b3164",
   "metadata": {},
   "source": [
    "5.5 Remove the element **```“apple”```** in the list. If the element does not exist, return **```None```**."
   ]
  },
  {
   "cell_type": "code",
   "execution_count": 55,
   "id": "a92ebcc8",
   "metadata": {},
   "outputs": [
    {
     "name": "stdout",
     "output_type": "stream",
     "text": [
      "['strawberry', 'orange', 'grapes', 'mango', 'mango']\n"
     ]
    }
   ],
   "source": [
    "try:\n",
    "    fruits.pop(fruits.index(\"apple\"))\n",
    "except:\n",
    "    print(\"None\")\n",
    "print(fruits)"
   ]
  },
  {
   "cell_type": "markdown",
   "id": "d94ca139",
   "metadata": {},
   "source": [
    "5.6\tModify the value at index 3 to **```“melon”```**"
   ]
  },
  {
   "cell_type": "code",
   "execution_count": 56,
   "id": "e90c5dd8",
   "metadata": {},
   "outputs": [
    {
     "name": "stdout",
     "output_type": "stream",
     "text": [
      "['strawberry', 'orange', 'grapes', 'melon', 'mango']\n"
     ]
    }
   ],
   "source": [
    "fruits[3] = \"melon\"\n",
    "print(fruits)"
   ]
  },
  {
   "cell_type": "markdown",
   "id": "b33c1b54",
   "metadata": {},
   "source": [
    "### 6. CONVERT THE LIST INTO A TUPLE"
   ]
  },
  {
   "cell_type": "code",
   "execution_count": 57,
   "id": "17332388",
   "metadata": {},
   "outputs": [
    {
     "data": {
      "text/plain": [
       "tuple"
      ]
     },
     "execution_count": 57,
     "metadata": {},
     "output_type": "execute_result"
    }
   ],
   "source": [
    "fruits = tuple(fruits)\n",
    "type(fruits)"
   ]
  },
  {
   "cell_type": "markdown",
   "id": "d07e8e52",
   "metadata": {},
   "source": [
    "### 7. LOOP THE ELEMENTS IN A TUPLE"
   ]
  },
  {
   "cell_type": "markdown",
   "id": "fde5683d",
   "metadata": {},
   "source": [
    "7.1 Using the **```range()```** method"
   ]
  },
  {
   "cell_type": "code",
   "execution_count": 58,
   "id": "dbdfb19d",
   "metadata": {},
   "outputs": [
    {
     "name": "stdout",
     "output_type": "stream",
     "text": [
      "strawberry\n",
      "orange\n",
      "grapes\n",
      "melon\n",
      "mango\n"
     ]
    }
   ],
   "source": [
    "for i in range(len(fruits)):\n",
    "    print(fruits[i])"
   ]
  },
  {
   "cell_type": "markdown",
   "id": "e9d4e126",
   "metadata": {},
   "source": [
    "7.2 Using the syntax: **```for var in obj```**"
   ]
  },
  {
   "cell_type": "code",
   "execution_count": 59,
   "id": "931cf330",
   "metadata": {},
   "outputs": [
    {
     "name": "stdout",
     "output_type": "stream",
     "text": [
      "strawberry\n",
      "orange\n",
      "grapes\n",
      "melon\n",
      "mango\n"
     ]
    }
   ],
   "source": [
    "for f in fruits:\n",
    "    print(f)"
   ]
  },
  {
   "cell_type": "markdown",
   "id": "33d6e26e",
   "metadata": {},
   "source": [
    "### 8. UNPACK A TUPLE\n",
    "\n",
    "Unpack the elements in the tuple using these variables: **```fruit1, fruit2, other_fruits```**"
   ]
  },
  {
   "cell_type": "code",
   "execution_count": 60,
   "id": "8f845d49",
   "metadata": {},
   "outputs": [
    {
     "name": "stdout",
     "output_type": "stream",
     "text": [
      "strawberry\n",
      "orange\n",
      "['grapes', 'melon', 'mango']\n"
     ]
    }
   ],
   "source": [
    "fruit1, fruit2, *other_fruits = fruits\n",
    "print(fruit1)\n",
    "print(fruit2)\n",
    "print(other_fruits)"
   ]
  }
 ],
 "metadata": {
  "kernelspec": {
   "display_name": "Python 3 (ipykernel)",
   "language": "python",
   "name": "python3"
  },
  "language_info": {
   "codemirror_mode": {
    "name": "ipython",
    "version": 3
   },
   "file_extension": ".py",
   "mimetype": "text/x-python",
   "name": "python",
   "nbconvert_exporter": "python",
   "pygments_lexer": "ipython3",
   "version": "3.12.1"
  }
 },
 "nbformat": 4,
 "nbformat_minor": 5
}
