{
 "cells": [
  {
   "cell_type": "markdown",
   "id": "edb69a30",
   "metadata": {},
   "source": [
    "# PYTHON NUMPY\n",
    "\n",
    "In our last class meeting, we learned that NumPy is a python library generally used for working with arrays. It includes a wide range of mathematical functions, such as linear algebra, Fourier transforms, and random number generation\n",
    "\n",
    "\n",
    "**Why do we need to learn NumPy?**\n",
    "- NumPy’s are used for machine learning, data science, image and signal processing, scientific computing, and quantum computing.\n",
    "\n",
    "\n",
    "**Advantages of using NumPy Arrays:**\n",
    "- NumPy arrays consume less memory to store data, thus, it has a faster execution compared to Python Lists.\n",
    "\n",
    "- NumPy arrays are optimized for complex mathematical and statistical operations. Up to 50x faster than iterating over Python lists using loops.\n",
    "\n",
    "- It can also be used with various libraries like Pandas, Scipy, sckit-learn, etc.\n",
    "\n",
    "\n",
    "To learn more about Numpy’s, let’s start first with its basic implementations."
   ]
  },
  {
   "cell_type": "markdown",
   "id": "4fdaa11f",
   "metadata": {},
   "source": [
    "### IMPORTING NUMPY\n",
    "\n",
    "Reminder: Make sure that you have installed numpy before calling the library"
   ]
  },
  {
   "cell_type": "code",
   "execution_count": 2,
   "id": "a210b003",
   "metadata": {},
   "outputs": [],
   "source": [
    "import numpy as np\n",
    "# the numpy library is denoted as np so that it will readable\n",
    "# and easier to call the functions inside the library"
   ]
  },
  {
   "cell_type": "markdown",
   "id": "17660602",
   "metadata": {},
   "source": [
    "### NUMPY ARRAY CREATION\n",
    "\n",
    "There are various ways on how to create an array:"
   ]
  },
  {
   "cell_type": "markdown",
   "id": "ddc0f4f3",
   "metadata": {},
   "source": [
    "#### Using a Python List:"
   ]
  },
  {
   "cell_type": "code",
   "execution_count": 3,
   "id": "fb22b173",
   "metadata": {},
   "outputs": [
    {
     "name": "stdout",
     "output_type": "stream",
     "text": [
      "[2 4 6 8]\n"
     ]
    }
   ],
   "source": [
    "# complete the code and output the array\n",
    "arr = np.array([2, 4, 6, 8])\n",
    "print(arr)"
   ]
  },
  {
   "cell_type": "markdown",
   "id": "a5083e6b",
   "metadata": {},
   "source": [
    "#### Using np.zeros()\n",
    "\n",
    "The number passed as an argument to np.zeros() determines the size of the resulting array filled with zeros."
   ]
  },
  {
   "cell_type": "code",
   "execution_count": 4,
   "id": "9e5a7517",
   "metadata": {},
   "outputs": [
    {
     "name": "stdout",
     "output_type": "stream",
     "text": [
      "[0. 0. 0. 0.]\n"
     ]
    }
   ],
   "source": [
    "# complete the code and output the array\n",
    "arr = np.zeros(4)\n",
    "print(arr)"
   ]
  },
  {
   "cell_type": "markdown",
   "id": "6ca5eb15",
   "metadata": {},
   "source": [
    "#### Using np.arange()\n",
    "\n",
    "Returns an array with values within a specified interval."
   ]
  },
  {
   "cell_type": "code",
   "execution_count": 5,
   "id": "56989a7a",
   "metadata": {},
   "outputs": [
    {
     "name": "stdout",
     "output_type": "stream",
     "text": [
      "[0 1 2 3 4]\n",
      "[1 3 5 7]\n"
     ]
    }
   ],
   "source": [
    "# complete the code and output the array\n",
    "\n",
    "#create an array with values from 0 to 4\n",
    "arr1 = np.arange(5)\n",
    "print(arr1)\n",
    "\n",
    "#create an array with values from 1 to 8 with a step of 2\n",
    "arr2 = np.arange(1, 9, 2) \n",
    "print(arr2)"
   ]
  },
  {
   "cell_type": "markdown",
   "id": "63909a2c",
   "metadata": {},
   "source": [
    "#### Using np.random.rand()\n",
    "\n",
    "Used to create an array of random numbers"
   ]
  },
  {
   "cell_type": "code",
   "execution_count": 6,
   "id": "3bbf0f46",
   "metadata": {},
   "outputs": [
    {
     "name": "stdout",
     "output_type": "stream",
     "text": [
      "[0.68264626 0.25062676 0.5696151  0.63882699 0.69973442]\n"
     ]
    }
   ],
   "source": [
    "# complete the code and output the array\n",
    "arr = np.random.rand(5)\n",
    "print(arr)"
   ]
  },
  {
   "cell_type": "markdown",
   "id": "5a7a56b9",
   "metadata": {},
   "source": [
    "#### Using np.empty()\n",
    "\n",
    "Used to create an empty array."
   ]
  },
  {
   "cell_type": "code",
   "execution_count": 7,
   "id": "6ad9bc68",
   "metadata": {},
   "outputs": [
    {
     "name": "stdout",
     "output_type": "stream",
     "text": [
      "[0. 0. 0. 0.]\n"
     ]
    }
   ],
   "source": [
    "# complete the code and output the array\n",
    "arr = np.empty(4)\n",
    "print(arr)\n",
    "# The elements inside the array are not completely empty but rather it contains non-existing numbers"
   ]
  },
  {
   "cell_type": "markdown",
   "id": "3f9f5704",
   "metadata": {},
   "source": [
    "### NUMPY DATA TYPES\n",
    "\n",
    "To check the data type of an array call the **```dtype```** attribute, returns the data type of the elements inside the array."
   ]
  },
  {
   "cell_type": "code",
   "execution_count": 8,
   "id": "ba7361b2",
   "metadata": {},
   "outputs": [
    {
     "name": "stdout",
     "output_type": "stream",
     "text": [
      "int32\n"
     ]
    }
   ],
   "source": [
    "# create an array of integers\n",
    "arr = np.array([-3, -1, 0, 1]) \n",
    "print(arr.dtype)\n",
    "# print the data type of the array"
   ]
  },
  {
   "cell_type": "markdown",
   "id": "183cb207",
   "metadata": {},
   "source": [
    "For signed integers, by default, **int64** is the data type you can change its data type by indicating what type to use in creating an array."
   ]
  },
  {
   "cell_type": "code",
   "execution_count": 10,
   "id": "a963a0f4",
   "metadata": {},
   "outputs": [
    {
     "name": "stdout",
     "output_type": "stream",
     "text": [
      "[1 3 7]\n",
      "int32\n"
     ]
    }
   ],
   "source": [
    "arr = np.array([1,3,7], dtype = \"int32\")\n",
    "print(arr)\n",
    "print(arr.dtype)\n",
    "# print the array and its data type"
   ]
  },
  {
   "cell_type": "markdown",
   "id": "76e1986f",
   "metadata": {},
   "source": [
    "Type conversion can also be performed in NumPy."
   ]
  },
  {
   "cell_type": "code",
   "execution_count": 12,
   "id": "5867f1c5",
   "metadata": {},
   "outputs": [
    {
     "name": "stdout",
     "output_type": "stream",
     "text": [
      "[1. 3. 5. 7. 9.]\n",
      "float64\n"
     ]
    }
   ],
   "source": [
    "arr = np.array([1, 3, 5, 7, 9])\n",
    "# use this syntax to perform type conversion arr.astype('float')\n",
    "arr = arr.astype(\"float\")\n",
    "# print the converted array and its new data type\n",
    "print(arr)\n",
    "print(arr.dtype)"
   ]
  },
  {
   "cell_type": "markdown",
   "id": "f6fbc2f3",
   "metadata": {},
   "source": [
    "#### Other NumPy Attributes\n",
    "\n",
    "- **```ndim```** – returns number of dimension of the array\n",
    "- **```size```** – returns numbers of elements in the array\n",
    "- **```shape```** – returns the size of the array in each dimension\n",
    "- **```itemsize```** – returns the size (in bytes) of each elements in the array\n",
    "- **```data```** – returns the buffer (reference or pointers) containing actual elements of the array in memory \n"
   ]
  },
  {
   "cell_type": "code",
   "execution_count": 13,
   "id": "74504775",
   "metadata": {},
   "outputs": [
    {
     "name": "stdout",
     "output_type": "stream",
     "text": [
      "1\n",
      "(9,)\n",
      "9\n"
     ]
    }
   ],
   "source": [
    "arr = np.arange(9)\n",
    "\n",
    "# print the dimension of the array\n",
    "print(arr.ndim)\n",
    "# print the array shape\n",
    "print(arr.shape)\n",
    "# print the array size\n",
    "print(arr.size)"
   ]
  },
  {
   "cell_type": "markdown",
   "id": "c4449587",
   "metadata": {},
   "source": [
    "### NUMPY ARRAY INDEXING\n",
    "\n",
    "Similar to lists, array elements can be accessed using their index."
   ]
  },
  {
   "cell_type": "code",
   "execution_count": 14,
   "id": "dcae40f5",
   "metadata": {},
   "outputs": [
    {
     "name": "stdout",
     "output_type": "stream",
     "text": [
      "1\n",
      "5\n",
      "9\n"
     ]
    }
   ],
   "source": [
    "arr = np.array([1, 3, 5, 7, 9, 11])\n",
    "# access the first element\n",
    "print(arr[0])\n",
    "# access the third element\n",
    "print(arr[2])\n",
    "# access the fifth element\n",
    "print(arr[4])"
   ]
  },
  {
   "cell_type": "markdown",
   "id": "0f51c1de",
   "metadata": {},
   "source": [
    "You can also access array elements using negative indexing."
   ]
  },
  {
   "cell_type": "code",
   "execution_count": 15,
   "id": "de29407d",
   "metadata": {},
   "outputs": [
    {
     "name": "stdout",
     "output_type": "stream",
     "text": [
      "11\n",
      "9\n",
      "5\n"
     ]
    }
   ],
   "source": [
    "arr = np.array([1, 3, 5, 7, 9, 11])\n",
    "# access the last element\n",
    "print(arr[-1])\n",
    "# access the second-to-the-last element\n",
    "print(arr[-2])\n",
    "# access the fourth-to-the-last element\n",
    "print(arr[-4])"
   ]
  },
  {
   "cell_type": "markdown",
   "id": "0b5ceb0c",
   "metadata": {},
   "source": [
    "### NUMPY ARRAY SLICING\n",
    "\n",
    "Similar to lists, you can also get a subset of array elements using the slicing operator. \n",
    "\n",
    "**```arr[start:stop:step]```**\n",
    "- start is the index where python starts getting the subset by default the index is 0.\n",
    "- stop is the end, however, the last element is stop – 1. By default, the last element is the stop index.\n",
    "- step, is an optional argument, it dictates how many steps it will take before collecting the element in array. By default step is 1."
   ]
  },
  {
   "cell_type": "code",
   "execution_count": 21,
   "id": "9d710f23",
   "metadata": {},
   "outputs": [
    {
     "name": "stdout",
     "output_type": "stream",
     "text": [
      "[ 5  7  9 11]\n",
      "[ 9 15 21 27]\n",
      "[13 17]\n"
     ]
    }
   ],
   "source": [
    "arr = np.array([1, 3, 5, 7, 9, 11, 13, 15, 17, 19, 21, 23, 25, 27])\n",
    "# get the subset of [5, 7, 9, 11]\n",
    "print(arr[2:6])\n",
    "# get the subset of [9, 15, 21, 27]\n",
    "print(arr[4::3])\n",
    "# get the subset of [13, 17]\n",
    "print(arr[6:10:2])"
   ]
  },
  {
   "cell_type": "markdown",
   "id": "c24911ab",
   "metadata": {},
   "source": [
    "You can also get the subset of the array using Negative Indexing."
   ]
  },
  {
   "cell_type": "code",
   "execution_count": 53,
   "id": "bfcc14ce",
   "metadata": {},
   "outputs": [
    {
     "name": "stdout",
     "output_type": "stream",
     "text": [
      "[23 25 27]\n",
      "[ 9 13 17 21]\n",
      "[27 17  7]\n"
     ]
    }
   ],
   "source": [
    "arr = np.array([1, 3, 5, 7, 9, 11, 13, 15, 17, 19, 21, 23, 25, 27])\n",
    "# get the subset of [23, 25, 27]\n",
    "print(arr[-3:])\n",
    "# get the subset of [9, 13, 17, 21]\n",
    "print(arr[-10:-3:2])\n",
    "# get the subset of [27, 17, 7]\n",
    "print(arr[::-5])"
   ]
  },
  {
   "cell_type": "markdown",
   "id": "d4ae3da1",
   "metadata": {},
   "source": [
    "### NUMPY ARRAY RESHAPING\n",
    "\n",
    "A 1D array can be reshaped into an N-D array by calling **```np.reshape(array, newshape, order = ‘C’)```**."
   ]
  },
  {
   "cell_type": "code",
   "execution_count": 55,
   "id": "ca88e781",
   "metadata": {},
   "outputs": [
    {
     "name": "stdout",
     "output_type": "stream",
     "text": [
      "[[ 2  4  6  8]\n",
      " [ 9 10 11 12]]\n"
     ]
    }
   ],
   "source": [
    "arr = np.array([2, 4, 6, 8, 9, 10, 11, 12])\n",
    "arr = np.reshape(arr, (2, 4), order='c')\n",
    "print(arr)\n",
    "# reshaped the array into a 2D array with 2 rows and 4 columns"
   ]
  },
  {
   "cell_type": "markdown",
   "id": "31012619",
   "metadata": {},
   "source": [
    "### NUMPY COMPARISON/LOGICAL OPERATORS\n",
    "\n",
    "In performing this task, NumPy will perform element wise operation."
   ]
  },
  {
   "cell_type": "code",
   "execution_count": 63,
   "id": "a9502876",
   "metadata": {},
   "outputs": [
    {
     "name": "stdout",
     "output_type": "stream",
     "text": [
      "[ True False False]\n",
      "[False False  True]\n",
      "[ True False  True]\n"
     ]
    }
   ],
   "source": [
    "arr1 = np.array([1, 2, 3])\n",
    "arr2 = np.array([3, 2, 1])\n",
    "\n",
    "# perform the lesser than comparison using the less() function\n",
    "arr = np.less(arr1, arr2)\n",
    "print(arr)\n",
    "# perform the greater than comparison using the greater() function\n",
    "arr = np.greater(arr1, arr2)\n",
    "print(arr)\n",
    "# perform the not equal comparison using the not_equal() function\n",
    "arr = np.not_equal(arr1, arr2)\n",
    "print(arr)"
   ]
  },
  {
   "cell_type": "markdown",
   "id": "55872e9d",
   "metadata": {},
   "source": [
    "For logical operators, NumPy can store array elements of Boolean type."
   ]
  },
  {
   "cell_type": "code",
   "execution_count": 64,
   "id": "6141a09a",
   "metadata": {},
   "outputs": [
    {
     "name": "stdout",
     "output_type": "stream",
     "text": [
      "[False False  True]\n"
     ]
    }
   ],
   "source": [
    "arr1 = np.array([True, False, True])\n",
    "arr2 = np.array([False, False, True])\n",
    "\n",
    "# perform the AND operator using logical_and() function\n",
    "arr = np.logical_and(arr1, arr2)\n",
    "print(arr)"
   ]
  },
  {
   "cell_type": "markdown",
   "id": "2ee4c4b7",
   "metadata": {},
   "source": [
    "### NUMPY MATH FUNCTIONS\n",
    "\n",
    "NumPy Math Functions are divided into three categories:\n",
    "- Arithmetic Functions\n",
    "- Trigonometric Functions\n",
    "- Rounding Functions"
   ]
  },
  {
   "cell_type": "markdown",
   "id": "19593b85",
   "metadata": {},
   "source": [
    "Let’s perform Arithmetic Functions on a 1D array:"
   ]
  },
  {
   "cell_type": "code",
   "execution_count": 70,
   "id": "1b65ee0e",
   "metadata": {},
   "outputs": [
    {
     "name": "stdout",
     "output_type": "stream",
     "text": [
      "[ 3  7 11 15 19 23]\n",
      "[ 3  7 11 15 19 23]\n",
      "479001600\n",
      "479001600\n"
     ]
    }
   ],
   "source": [
    "arr1 = np.array([1, 3, 5, 7, 9, 11])\n",
    "arr2 = np.array([2, 4, 6, 8, 10, 12])\n",
    "\n",
    "# get the sum of two arrays using the + operator and add() function\n",
    "print(arr1 + arr2)\n",
    "print(np.add(arr1, arr2))\n",
    "#get the product of two arrays using the * operator and product() function\n",
    "print(np.product(arr1 * arr2))\n",
    "print(np.product(arr1) * np.product(arr2))"
   ]
  },
  {
   "cell_type": "markdown",
   "id": "1d5062fa",
   "metadata": {},
   "source": [
    "Trigonometric Functions on a 1D array:"
   ]
  },
  {
   "cell_type": "code",
   "execution_count": 72,
   "id": "2de1cf1c",
   "metadata": {},
   "outputs": [
    {
     "name": "stdout",
     "output_type": "stream",
     "text": [
      "[ 1.          0.54030231 -0.41614684]\n",
      "[0.         0.78539816 1.10714872]\n"
     ]
    }
   ],
   "source": [
    "# array of angles in radians\n",
    "arr = np.array([0, 1, 2])\n",
    "# compute the cosine of the angles\n",
    "print(np.cos(arr))\n",
    "# compute the inverse tangent of the angles\n",
    "print(np.arctan(arr))"
   ]
  },
  {
   "cell_type": "code",
   "execution_count": 73,
   "id": "b4e29bb5",
   "metadata": {},
   "outputs": [
    {
     "name": "stdout",
     "output_type": "stream",
     "text": [
      "90.0000001836389\n",
      "1.57079633\n"
     ]
    }
   ],
   "source": [
    "# angle in radians\n",
    "angle = 1.57079633 \n",
    "# convert the angle to degrees\n",
    "print(np.degrees(angle))\n",
    "# convert the angle back to radians\n",
    "print(np.radians(np.degrees(angle)))"
   ]
  },
  {
   "cell_type": "markdown",
   "id": "26f70c05",
   "metadata": {},
   "source": [
    "Rounding Functions"
   ]
  },
  {
   "cell_type": "code",
   "execution_count": 75,
   "id": "2804fae2",
   "metadata": {},
   "outputs": [
    {
     "name": "stdout",
     "output_type": "stream",
     "text": [
      "[1. 2. 3. 4.]\n",
      "[2. 3. 4. 5.]\n"
     ]
    }
   ],
   "source": [
    "arr = np.array([1.23456, 2.34567, 3.45678, 4.56789])\n",
    "# call the floor() function and observe its output\n",
    "print(np.floor(arr))\n",
    "# call the ceil() function and observe its output\n",
    "print(np.ceil(arr))"
   ]
  },
  {
   "cell_type": "markdown",
   "id": "5ae608a8",
   "metadata": {},
   "source": [
    "### NUMPY STATISTICAL FUNCTIONS"
   ]
  },
  {
   "cell_type": "code",
   "execution_count": 76,
   "id": "2e5f15d6",
   "metadata": {},
   "outputs": [
    {
     "name": "stdout",
     "output_type": "stream",
     "text": [
      "77.2\n",
      "78.0\n",
      "66\n",
      "85\n"
     ]
    }
   ],
   "source": [
    "arr = np.array([76, 78, 81, 66, 85])\n",
    "\n",
    "# compute the mean of the marks\n",
    "print(np.mean(arr))\n",
    "# compute the median of marks\n",
    "print(np.median(arr))\n",
    "# find the maximum and minimum marks\n",
    "print(np.min(arr))\n",
    "print(np.max(arr))"
   ]
  },
  {
   "cell_type": "markdown",
   "id": "e1803326",
   "metadata": {},
   "source": [
    "Now, that you are more familiar with using the different NumPy operations on a 1D array. Let’s try to make it more challenging by applying the different NumPy operations on an N-D dimensional array."
   ]
  },
  {
   "cell_type": "markdown",
   "id": "e1956ea4",
   "metadata": {},
   "source": [
    "### N-D ARRAY FROM LIST OF LISTS"
   ]
  },
  {
   "cell_type": "code",
   "execution_count": 77,
   "id": "e49884b8",
   "metadata": {},
   "outputs": [
    {
     "name": "stdout",
     "output_type": "stream",
     "text": [
      "[76 78 81 66 85]\n",
      "1\n",
      "(5,)\n"
     ]
    }
   ],
   "source": [
    "arr = np.array([[1, 2, 3, 4, 5], \n",
    "          [6, 7, 8, 9, 10]])\n",
    "#print the array including its dimension and shape\n",
    "print(arr)\n",
    "print(arr.ndim)\n",
    "print(arr.shape)"
   ]
  },
  {
   "cell_type": "code",
   "execution_count": 78,
   "id": "6f559006",
   "metadata": {},
   "outputs": [
    {
     "name": "stdout",
     "output_type": "stream",
     "text": [
      "[[[ 1  2  3  4]\n",
      "  [ 5  6  7  8]\n",
      "  [ 9 10 11 12]]\n",
      "\n",
      " [[13 14 15 16]\n",
      "  [17 18 19 20]\n",
      "  [21 22 23 24]]]\n",
      "3\n",
      "(2, 3, 4)\n"
     ]
    }
   ],
   "source": [
    "arr = np.array([[[1, 2, 3, 4], \n",
    "           [5, 6, 7, 8], \n",
    "           [9, 10, 11, 12]], \n",
    "          \n",
    "          [[13, 14, 15, 16], \n",
    "           [17, 18, 19, 20], \n",
    "           [21, 22, 23, 24]]])\n",
    "#print the array including its dimension and shape\n",
    "print(arr)\n",
    "print(arr.ndim)\n",
    "print(arr.shape)"
   ]
  },
  {
   "cell_type": "markdown",
   "id": "32b96c55",
   "metadata": {},
   "source": [
    "### Using np.zeros()"
   ]
  },
  {
   "cell_type": "code",
   "execution_count": 80,
   "id": "a48d92f2",
   "metadata": {},
   "outputs": [
    {
     "name": "stdout",
     "output_type": "stream",
     "text": [
      "[[0. 0. 0.]\n",
      " [0. 0. 0.]]\n"
     ]
    }
   ],
   "source": [
    "# create a 2D array with 2 rows and 3 columns filled with zeros\n",
    "arr = np.zeros((2, 3))\n",
    "print(arr)"
   ]
  },
  {
   "cell_type": "code",
   "execution_count": 81,
   "id": "8ff4193f",
   "metadata": {},
   "outputs": [
    {
     "name": "stdout",
     "output_type": "stream",
     "text": [
      "[[[0. 0. 0.]\n",
      "  [0. 0. 0.]\n",
      "  [0. 0. 0.]]\n",
      "\n",
      " [[0. 0. 0.]\n",
      "  [0. 0. 0.]\n",
      "  [0. 0. 0.]]]\n"
     ]
    }
   ],
   "source": [
    "# create a 3D array with dimensions 2x3x4 filled with zeros\n",
    "arr = np.zeros((2, 3, 3))\n",
    "print(arr)"
   ]
  },
  {
   "cell_type": "markdown",
   "id": "71cc8c8b",
   "metadata": {},
   "source": [
    "### Using np.full()\n",
    "\n",
    "This function is used when you want to create an N-D array with a specific value."
   ]
  },
  {
   "cell_type": "code",
   "execution_count": 82,
   "id": "81387392",
   "metadata": {},
   "outputs": [
    {
     "name": "stdout",
     "output_type": "stream",
     "text": [
      "[[5 5]\n",
      " [5 5]]\n"
     ]
    }
   ],
   "source": [
    "# create a 2D array with elements initialized to 5\n",
    "arr = np.full((2, 2), 5) \n",
    "\n",
    "# print the array\n",
    "print(arr)"
   ]
  },
  {
   "cell_type": "markdown",
   "id": "56011c0f",
   "metadata": {},
   "source": [
    "### Using np.random.rand()"
   ]
  },
  {
   "cell_type": "code",
   "execution_count": 85,
   "id": "4d96b294",
   "metadata": {},
   "outputs": [
    {
     "name": "stdout",
     "output_type": "stream",
     "text": [
      "[[0.08662156 0.28984091 0.68404033]\n",
      " [0.72797989 0.40323834 0.09602288]\n",
      " [0.71974609 0.74357707 0.95446751]]\n"
     ]
    }
   ],
   "source": [
    "# create a 2D array of 3 rows and 3 columns of random numbers\n",
    "arr = np.random.rand(3, 3)\n",
    "print(arr)"
   ]
  },
  {
   "cell_type": "code",
   "execution_count": 86,
   "id": "6ea1ca6a",
   "metadata": {},
   "outputs": [
    {
     "name": "stdout",
     "output_type": "stream",
     "text": [
      "[[[0.73185472 0.90319262 0.04646578]\n",
      "  [0.7765093  0.0678659  0.33977003]\n",
      "  [0.164213   0.83690647 0.97521446]]\n",
      "\n",
      " [[0.08726161 0.42940436 0.42539572]\n",
      "  [0.33902798 0.58293372 0.2260354 ]\n",
      "  [0.55824442 0.52744272 0.35970297]]\n",
      "\n",
      " [[0.5462941  0.19619181 0.53790547]\n",
      "  [0.89877241 0.09836257 0.36124808]\n",
      "  [0.52209264 0.05243428 0.98647126]]]\n"
     ]
    }
   ],
   "source": [
    "# create a 3D array of shape (3, 3, 3) of random numbers\n",
    "arr = np.random.rand(3, 3, 3)\n",
    "print(arr)"
   ]
  },
  {
   "cell_type": "markdown",
   "id": "82b5689f",
   "metadata": {},
   "source": [
    "### Using np.empty()"
   ]
  },
  {
   "cell_type": "code",
   "execution_count": 88,
   "id": "efde6110",
   "metadata": {},
   "outputs": [
    {
     "name": "stdout",
     "output_type": "stream",
     "text": [
      "[[1.23456 2.34567]\n",
      " [3.45678 4.56789]]\n"
     ]
    }
   ],
   "source": [
    "# create an empty 2D array with 2 rows and 2 columns\n",
    "arr = np.empty((2, 2))\n",
    "print(arr)"
   ]
  },
  {
   "cell_type": "code",
   "execution_count": 89,
   "id": "cf8fee6f",
   "metadata": {},
   "outputs": [
    {
     "name": "stdout",
     "output_type": "stream",
     "text": [
      "[[[0.000e+000 0.000e+000]\n",
      "  [0.000e+000 0.000e+000]]\n",
      "\n",
      " [[0.000e+000 5.217e-321]\n",
      "  [0.000e+000 0.000e+000]]]\n"
     ]
    }
   ],
   "source": [
    "# create an empty 3D array of shape (2, 2, 2)\n",
    "arr = np.empty((2, 2, 2))\n",
    "print(arr)"
   ]
  },
  {
   "cell_type": "markdown",
   "id": "bf0372b6",
   "metadata": {},
   "source": [
    "### NUMPY ARRAY INDEXING ON N-D ARRAYS"
   ]
  },
  {
   "cell_type": "markdown",
   "id": "f1aa310b",
   "metadata": {},
   "source": [
    "In 2D NumPy Array, to access a specific element, you need to remember to use the square bracket notation and its syntax **```arr[row, column]```**."
   ]
  },
  {
   "cell_type": "code",
   "execution_count": 91,
   "id": "a1bc643e",
   "metadata": {},
   "outputs": [
    {
     "name": "stdout",
     "output_type": "stream",
     "text": [
      "11\n",
      "6\n",
      "[ 9 11 13 15]\n",
      "[ 7  8 15]\n"
     ]
    }
   ],
   "source": [
    "arr = np.array([[1, 3, 5, 7], \n",
    "          [2, 4, 6, 8], \n",
    "          [9, 11, 13, 15]])\n",
    "\n",
    "# access the element at the third row and second column\n",
    "print(arr[2, 1])\n",
    "# access the element at the second row and third colum\n",
    "print(arr[1, 2])\n",
    "# print the last row\n",
    "print(arr[-1])\n",
    "# print the last column\n",
    "print(arr[:,-1])"
   ]
  },
  {
   "cell_type": "markdown",
   "id": "f50b8ce1",
   "metadata": {},
   "source": [
    "For 3D arrays, to access an element **```arr[slice, row, column]```**."
   ]
  },
  {
   "cell_type": "code",
   "execution_count": 92,
   "id": "99da68e4",
   "metadata": {},
   "outputs": [
    {
     "name": "stdout",
     "output_type": "stream",
     "text": [
      "22\n"
     ]
    }
   ],
   "source": [
    "arr = np.array([[[1, 2, 3, 4], \n",
    "           [5, 6, 7, 8], \n",
    "           [9, 10, 11, 12]], \n",
    "          \n",
    "          [[13, 14, 15, 16], \n",
    "           [17, 18, 19, 20], \n",
    "           [21, 22, 23, 24]]])\n",
    "\n",
    "# print this element arr[1, 2, 1]\n",
    "print(arr[1, 2, 1])"
   ]
  },
  {
   "cell_type": "markdown",
   "id": "1149c39a",
   "metadata": {},
   "source": [
    "### NUMPY 2-D ARRAY SLICING\n",
    "\n",
    "**```arr[row_start:row_stop:row_step, col_start:col_stop:col_step]```**\n",
    "\n",
    "To get the subset of rows, let’s have a breakdown of the different indexes for the row. **```row_start```** is the starting index, indicating which row to start from to get the subset; by default its index is 0. **```row_stop```**, signifies the last row to get the subset (**```row_stop```**-1), and by default the last row of the entire array is the **```row_stop```** index. Lastly, **```row_step```** is an optional index that counts how many steps to take and its default value is 1.\n",
    "\n",
    "To get the subset of columns, the idea of how slicing works in rows is also similar to columns."
   ]
  },
  {
   "cell_type": "code",
   "execution_count": 99,
   "id": "79d33fb5",
   "metadata": {},
   "outputs": [
    {
     "name": "stdout",
     "output_type": "stream",
     "text": [
      "[[1 3]\n",
      " [2 4]]\n",
      "[[ 6  8]\n",
      " [13 15]]\n",
      "[2 4 6 8]\n",
      "[ 7  8 15]\n"
     ]
    }
   ],
   "source": [
    "arr = np.array([[1, 3, 5, 7], \n",
    "          [2, 4, 6, 8], \n",
    "          [9, 11, 13, 15]])\n",
    "\n",
    "# slice the array to get the first two rows and columns\n",
    "print(arr[:2, :2])\n",
    "# slice the array to get the last two rows and columns\n",
    "print(arr[-2:, -2:])\n",
    "# output the second row of the array [2, 4, 6, 8]\n",
    "print(arr[1, :])\n",
    "# output the fourth column of the array [7, 8, 15]\n",
    "print(arr[:, 3])"
   ]
  },
  {
   "cell_type": "markdown",
   "id": "599bcf54",
   "metadata": {},
   "source": [
    "### NUMPY ARRAY RESHAPING\n",
    "\n",
    "Just as NumPy allows 1-D arrays to transform into an N-D array, you can also flatten an N-D array to a 1-D array."
   ]
  },
  {
   "cell_type": "code",
   "execution_count": 100,
   "id": "e4e3b05e",
   "metadata": {},
   "outputs": [
    {
     "data": {
      "text/plain": [
       "array([ 1,  3,  6,  8, 11, 13])"
      ]
     },
     "execution_count": 100,
     "metadata": {},
     "output_type": "execute_result"
    }
   ],
   "source": [
    "# flatten a 2D array to 1D\n",
    "arr = np.array([[1, 3], \n",
    "          [6, 8], \n",
    "          [11, 13]]) \n",
    "\n",
    "np.reshape(arr, -1)"
   ]
  },
  {
   "cell_type": "code",
   "execution_count": 101,
   "id": "52f436c9",
   "metadata": {},
   "outputs": [
    {
     "data": {
      "text/plain": [
       "array([ 1,  2,  6,  8,  9, 12, 13, 14, 17, 20, 21, 24])"
      ]
     },
     "execution_count": 101,
     "metadata": {},
     "output_type": "execute_result"
    }
   ],
   "source": [
    "# flatten a 3D array to 1D\n",
    "arr = np.array([[[1, 2], \n",
    "           [6, 8], \n",
    "           [9,12]], \n",
    "          \n",
    "          [[13, 14], \n",
    "           [17, 20], \n",
    "           [21, 24]]])\n",
    "\n",
    "np.reshape(arr, -1)"
   ]
  },
  {
   "cell_type": "markdown",
   "id": "d64b3044",
   "metadata": {},
   "source": [
    "### NUMPY ARRAY TRANSPOSE\n",
    "\n",
    "One of the operations in matrices is transpose and NumPy offers that function by calling **```np.transpose()```**."
   ]
  },
  {
   "cell_type": "code",
   "execution_count": 102,
   "id": "09b7a412",
   "metadata": {},
   "outputs": [
    {
     "name": "stdout",
     "output_type": "stream",
     "text": [
      "[[1 2]\n",
      " [3 4]\n",
      " [5 8]]\n"
     ]
    }
   ],
   "source": [
    "arr = np.array([[1, 3, 5], \n",
    "          [2, 4, 8]])\n",
    "\n",
    "# transpose the 2D array\n",
    "print(np.transpose(arr))"
   ]
  },
  {
   "cell_type": "markdown",
   "id": "8da42143",
   "metadata": {},
   "source": [
    "### NUMPY MATH FUNCTIONS\n",
    "\n",
    "In working with math operations on 2D arrays, one of the arguments to be passed is the array and its axis. Take note that axis is the valid syntax for passing the second argument in a function. For example:"
   ]
  },
  {
   "cell_type": "code",
   "execution_count": 103,
   "id": "1bdd03e6",
   "metadata": {},
   "outputs": [
    {
     "name": "stdout",
     "output_type": "stream",
     "text": [
      "[ 8. 10. 12.]\n"
     ]
    }
   ],
   "source": [
    "arr = np.array([[2, 4, 6], \n",
    "          [8, 10, 12], \n",
    "          [14, 16, 18]])\n",
    "\n",
    "# computes the median along the horizontal axis\n",
    "print(np.median(arr, axis = 0))"
   ]
  },
  {
   "cell_type": "markdown",
   "id": "d25bae08",
   "metadata": {},
   "source": [
    "**```np.median(arr, axis = 0)```**\n",
    "\n",
    "In a 2D array, **```axis = 0```** refers to the rows, therefore, it will compute the median for each column separately. This results in an array where each element represents the median of values across the rows for the corresponding column. "
   ]
  },
  {
   "cell_type": "code",
   "execution_count": 104,
   "id": "e730d097",
   "metadata": {},
   "outputs": [
    {
     "name": "stdout",
     "output_type": "stream",
     "text": [
      "[ 4. 10. 16.]\n"
     ]
    }
   ],
   "source": [
    "arr = np.array([[2, 4, 6], \n",
    "          [8, 10, 12], \n",
    "          [14, 16, 18]])\n",
    "\n",
    "# computes the median along the vertical axis\n",
    "print(np.median(arr, axis = 1))"
   ]
  },
  {
   "cell_type": "markdown",
   "id": "bd106947",
   "metadata": {},
   "source": [
    "# NUMPY EXERCISE WITH CSV FILE\n",
    "\n",
    "In this section, you will do some basic NumPy operations in a CSV file."
   ]
  },
  {
   "cell_type": "markdown",
   "id": "7f4443f4",
   "metadata": {},
   "source": [
    "### IMPORT THE NUMPY LIBRARY"
   ]
  },
  {
   "cell_type": "code",
   "execution_count": 107,
   "id": "355e4835",
   "metadata": {},
   "outputs": [],
   "source": [
    "# write your code\n",
    "import numpy as np"
   ]
  },
  {
   "cell_type": "markdown",
   "id": "3d1e2c64",
   "metadata": {},
   "source": [
    "### READ THE CSV FILE\n",
    "\n",
    "Try importing the CSV file **```air-quality-data.csv```**. This file contains 13 columns. Here are the details of the column:\n",
    "- Datetime\n",
    "- PM2.5\n",
    "- PM10\n",
    "- NO2\n",
    "- NH3\n",
    "- SO2\n",
    "- CO\n",
    "- O3\n",
    "- NOx\n",
    "- NO\n",
    "- Benzene\n",
    "- Toluene\n",
    "- Xylene\n",
    "\n",
    "All the columns except for Datetime, are of data type float. This dataset is used to check the quality of the air in a certain place using different factors. Let’s try working with the dataset and perform various NumPy operations."
   ]
  },
  {
   "cell_type": "markdown",
   "id": "b91ed373",
   "metadata": {},
   "source": [
    "To read the file we will be using the **```np.genfromtxt()```** function."
   ]
  },
  {
   "cell_type": "code",
   "execution_count": 109,
   "id": "0fde06d4",
   "metadata": {},
   "outputs": [],
   "source": [
    "# complete the code\n",
    "path = r'./csv/air-quality-data.csv'\n",
    "arr = np.genfromtxt(path, delimiter=',', skip_header=True, usecols=range(1, 13))"
   ]
  },
  {
   "cell_type": "markdown",
   "id": "25c61f6d",
   "metadata": {},
   "source": [
    "Explanation: **```path```** variable contains the file directory of the csv file. We also called the **```skip_header```** variable and set it to **```True```** since these data are not needed for the NumPy operations. Additonally, the **```usecols```** parameter excludes the Datatime column from the array."
   ]
  },
  {
   "cell_type": "markdown",
   "id": "9e1483d1",
   "metadata": {},
   "source": [
    "### OUTPUT THE LOADED DATA"
   ]
  },
  {
   "cell_type": "code",
   "execution_count": 110,
   "id": "7cff4194",
   "metadata": {},
   "outputs": [
    {
     "name": "stdout",
     "output_type": "stream",
     "text": [
      "[[103.26 305.46  94.71 ...  13.65  83.47   2.54]\n",
      " [104.47 309.14  74.66 ...  11.35  76.79   2.91]\n",
      " [ 90.   314.02  48.11 ...   5.66  32.91   1.59]\n",
      " ...\n",
      " [ 45.3  125.22  22.91 ...   1.72  18.06   1.16]\n",
      " [ 49.04 129.39  20.95 ...   1.66  16.17   1.18]\n",
      " [ 50.51 128.86  20.4  ...   1.6   16.79   0.85]]\n"
     ]
    }
   ],
   "source": [
    "# print the loaded data\n",
    "print(arr)"
   ]
  },
  {
   "cell_type": "code",
   "execution_count": 111,
   "id": "6e61d04d",
   "metadata": {},
   "outputs": [
    {
     "name": "stdout",
     "output_type": "stream",
     "text": [
      "2\n"
     ]
    }
   ],
   "source": [
    "# print data dimension\n",
    "print(arr.ndim)"
   ]
  },
  {
   "cell_type": "code",
   "execution_count": 112,
   "id": "7e38b098",
   "metadata": {},
   "outputs": [
    {
     "name": "stdout",
     "output_type": "stream",
     "text": [
      "(9528, 12)\n"
     ]
    }
   ],
   "source": [
    "# print data shape\n",
    "print(arr.shape)"
   ]
  },
  {
   "cell_type": "code",
   "execution_count": 114,
   "id": "2fa4b691",
   "metadata": {},
   "outputs": [
    {
     "name": "stdout",
     "output_type": "stream",
     "text": [
      "float64\n"
     ]
    }
   ],
   "source": [
    "# print array data type\n",
    "print(arr.dtype)"
   ]
  },
  {
   "cell_type": "markdown",
   "id": "07de8185",
   "metadata": {},
   "source": [
    "### PERFORMING STATISTICAL OPERATIONS IN DATA"
   ]
  },
  {
   "cell_type": "code",
   "execution_count": 120,
   "id": "de1f600d",
   "metadata": {},
   "outputs": [
    {
     "name": "stdout",
     "output_type": "stream",
     "text": [
      "[84.73166667 70.60333333 53.81916667 ... 26.65583333 26.80333333\n",
      " 26.49      ]\n",
      "[57.45  54.37  30.435 ... 18.01  16.485 16.81 ]\n"
     ]
    }
   ],
   "source": [
    "# compute the mean and median for each data column\n",
    "mean = np.mean(arr, axis=1)\n",
    "median = np.median(arr, axis=1)\n",
    "# print the results\n",
    "print(mean)\n",
    "print(median)"
   ]
  },
  {
   "cell_type": "code",
   "execution_count": 121,
   "id": "c6e481c8",
   "metadata": {},
   "outputs": [
    {
     "name": "stdout",
     "output_type": "stream",
     "text": [
      "[305.46 309.14 314.02 ... 125.22 129.39 128.86]\n",
      "[2.54 1.69 0.83 ... 1.04 1.   0.85]\n"
     ]
    }
   ],
   "source": [
    "# find the maximum and minimum values for each data column\n",
    "max = np.max(arr, axis=1)\n",
    "min = np.min(arr, axis=1)\n",
    "# print results\n",
    "print(max)\n",
    "print(min)"
   ]
  },
  {
   "cell_type": "code",
   "execution_count": 122,
   "id": "77eaf6ea",
   "metadata": {},
   "outputs": [
    {
     "name": "stdout",
     "output_type": "stream",
     "text": [
      "23.58329496154336\n"
     ]
    }
   ],
   "source": [
    "# compute the standard deviation in the seventh column of the array\n",
    "std = np.std(arr[:, 6])\n",
    "# print results\n",
    "print(std)"
   ]
  },
  {
   "cell_type": "code",
   "execution_count": 123,
   "id": "187f49d3",
   "metadata": {},
   "outputs": [
    {
     "name": "stdout",
     "output_type": "stream",
     "text": [
      "42.28120758357199\n"
     ]
    }
   ],
   "source": [
    "# only compute the standard deviation of the first 50 elements in the seventh column of the array\n",
    "std = np.std(arr[:51, 6])\n",
    "# print results\n",
    "print(std)"
   ]
  },
  {
   "cell_type": "markdown",
   "id": "212b426f",
   "metadata": {},
   "source": [
    "### DATA SLICING AND FILTERING"
   ]
  },
  {
   "cell_type": "code",
   "execution_count": 131,
   "id": "2cb16449",
   "metadata": {},
   "outputs": [
    {
     "name": "stdout",
     "output_type": "stream",
     "text": [
      "[[103.26 305.46  94.71 ...  13.65  83.47   2.54]\n",
      " [104.47 309.14  74.66 ...  11.35  76.79   2.91]\n",
      " [ 90.   314.02  48.11 ...   5.66  32.91   1.59]\n",
      " ...\n",
      " [ 72.85 301.97  29.17 ...   2.96  27.61   3.47]\n",
      " [ 20.77  61.29  33.49 ...   1.84  34.03   0.88]\n",
      " [ 24.39  67.29  28.64 ...   2.5   40.64   1.1 ]]\n"
     ]
    }
   ],
   "source": [
    "# output data values greather than 28 in the third column of the array\n",
    "result = arr[arr[:, 2] > 28]\n",
    "# the printed output should be a numerical value\n",
    "print(result)"
   ]
  },
  {
   "cell_type": "code",
   "execution_count": 133,
   "id": "4f9a1001",
   "metadata": {},
   "outputs": [
    {
     "name": "stdout",
     "output_type": "stream",
     "text": [
      "[[103.26 305.46  94.71  31.43  30.16]\n",
      " [104.47 309.14  74.66  34.08  27.02]\n",
      " [ 90.   314.02  48.11  32.6   18.12]\n",
      " [ 78.01 356.14  45.45  30.21  16.78]\n",
      " [ 80.19 372.9   45.23  28.68  16.41]]\n"
     ]
    }
   ],
   "source": [
    "# output the first five row and column elements\n",
    "print(arr[:5, :5])"
   ]
  },
  {
   "cell_type": "code",
   "execution_count": 134,
   "id": "436dff6c",
   "metadata": {},
   "outputs": [
    {
     "name": "stdout",
     "output_type": "stream",
     "text": [
      "[[103.26  30.16 152.73]\n",
      " [104.47  27.02  79.98]\n",
      " [ 90.    18.12  25.27]\n",
      " [ 78.01  16.78  21.5 ]\n",
      " [ 80.19  16.41  22.15]\n",
      " [ 83.59  17.42  21.04]\n",
      " [ 79.04  16.91  24.37]\n",
      " [ 77.32  17.86  28.81]\n",
      " [ 84.3   20.19  27.76]\n",
      " [ 94.79  19.97  23.47]\n",
      " [ 99.37  19.31  20.04]\n",
      " [ 99.67  18.82  14.65]\n",
      " [ 97.87  20.84  14.12]\n",
      " [ 98.59  21.07  15.66]\n",
      " [ 87.8   20.32  13.93]\n",
      " [ 80.14  18.94  17.06]\n",
      " [ 74.4   17.75  15.58]\n",
      " [ 70.15  17.26  21.31]\n",
      " [ 68.17  17.96  23.17]\n",
      " [ 70.63  16.86  37.65]]\n"
     ]
    }
   ],
   "source": [
    "# output the first 20 row elements and all data columns with step 4\n",
    "print(arr[:20,::4])"
   ]
  },
  {
   "cell_type": "code",
   "execution_count": 137,
   "id": "8610b18f",
   "metadata": {},
   "outputs": [
    {
     "name": "stdout",
     "output_type": "stream",
     "text": [
      "[[ 50.51 128.86  20.4 ]\n",
      " [ 29.4   10.98   0.94]\n",
      " [ 34.53  16.83   6.19]\n",
      " [  1.6   16.79   0.85]]\n"
     ]
    }
   ],
   "source": [
    "# get the last row\n",
    "last = arr[-1,:]\n",
    "# reshape the array to a 2D array with a shape of (4, 3)\n",
    "new_arr = last.reshape(4, 3)\n",
    "print(new_arr)"
   ]
  },
  {
   "cell_type": "code",
   "execution_count": 139,
   "id": "e91f7fde",
   "metadata": {},
   "outputs": [
    {
     "name": "stdout",
     "output_type": "stream",
     "text": [
      "[[43.81 59.7 ]\n",
      " [99.58 16.14]\n",
      " [17.85  6.45]\n",
      " [30.13  1.49]\n",
      " [10.57 10.3 ]\n",
      " [ 0.8   0.16]]\n"
     ]
    }
   ],
   "source": [
    "# get the tenth-to-the-last row\n",
    "tenth_to_last = arr[-10, :]\n",
    "# reshape the array to a 2D array with a shape of (2, 6)\n",
    "new_arr = tenth_to_last.reshape(2, 6)\n",
    "# then transpose the array\n",
    "print(new_arr.transpose())"
   ]
  },
  {
   "cell_type": "markdown",
   "id": "bf8aab97",
   "metadata": {},
   "source": [
    "### DATA PLOTTING (OPTIONAL)\n",
    "\n",
    "Try plotting the data using the **matplotlib** library."
   ]
  },
  {
   "cell_type": "markdown",
   "id": "1c09746b",
   "metadata": {},
   "source": [
    "#### Import the library\n",
    "\n",
    "Make sure that you have installed the library before importing it. Similar to numpy, we denoted the library as **```plt```** for readability and easier to call the functions. "
   ]
  },
  {
   "cell_type": "code",
   "execution_count": 141,
   "id": "ad6b2ee8",
   "metadata": {},
   "outputs": [],
   "source": [
    "import matplotlib.pyplot as plt "
   ]
  },
  {
   "cell_type": "markdown",
   "id": "e57f5fb7",
   "metadata": {},
   "source": [
    "#### Plot the Data\n",
    "\n",
    "Here’s a simple implementation on how to plot a numpy data using matplotlib."
   ]
  },
  {
   "cell_type": "code",
   "execution_count": 148,
   "id": "8f32b2f2",
   "metadata": {},
   "outputs": [
    {
     "data": {
      "image/png": "[encoded data removed]",
      "text/plain": [
       "<Figure size 640x480 with 1 Axes>"
      ]
     },
     "metadata": {},
     "output_type": "display_data"
    }
   ],
   "source": [
    "# plot the first column of the array\n",
    "pm25_column = arr[::, 0]\n",
    "\n",
    "plt.plot(pm25_column)\n",
    "plt.xlabel('Index')\n",
    "plt.ylabel('Values')\n",
    "plt.title('PM2.5 Variation')\n",
    "plt.show()"
   ]
  },
  {
   "cell_type": "markdown",
   "id": "ab89e7cf",
   "metadata": {},
   "source": [
    "Try plotting different columns or subsets of data using the **```matplolib.pyplot```** library."
   ]
  },
  {
   "cell_type": "code",
   "execution_count": 147,
   "id": "39d538df",
   "metadata": {},
   "outputs": [
    {
     "data": {
      "image/png": "[encoded data removed]",
      "text/plain": [
       "<Figure size 640x480 with 1 Axes>"
      ]
     },
     "metadata": {},
     "output_type": "display_data"
    }
   ],
   "source": [
    "# plot the eight column of the array\n",
    "pm25_column = arr[::, 7]\n",
    "\n",
    "plt.plot(pm25_column)\n",
    "plt.xlabel('Index')\n",
    "plt.ylabel('Values')\n",
    "plt.title('PM2.5 Variation')\n",
    "plt.show()"
   ]
  },
  {
   "cell_type": "code",
   "execution_count": 145,
   "id": "fbc6345f",
   "metadata": {},
   "outputs": [
    {
     "data": {
      "image/png": "[encoded data removed]",
      "text/plain": [
       "<Figure size 640x480 with 1 Axes>"
      ]
     },
     "metadata": {},
     "output_type": "display_data"
    }
   ],
   "source": [
    "# only plot the first 50 elements in the eight column of the array\n",
    "pm25_column = arr[:50:, 7]\n",
    "\n",
    "plt.plot(pm25_column)\n",
    "plt.xlabel('Index')\n",
    "plt.ylabel('Values')\n",
    "plt.title('PM2.5 Variation')\n",
    "plt.show()"
   ]
  },
  {
   "cell_type": "code",
   "execution_count": 149,
   "id": "0757401f",
   "metadata": {},
   "outputs": [
    {
     "data": {
      "image/png": "[encoded data removed]",
      "text/plain": [
       "<Figure size 640x480 with 1 Axes>"
      ]
     },
     "metadata": {},
     "output_type": "display_data"
    }
   ],
   "source": [
    "# plot the second and third column elements of the array\n",
    "# make sure that the two elements do not have the same color\n",
    "pm25_column = arr[::, 1]\n",
    "\n",
    "plt.plot(pm25_column)\n",
    "plt.xlabel('Index')\n",
    "plt.ylabel('Values')\n",
    "plt.title('PM2.5 Variation')\n",
    "\n",
    "pm25_column = arr[::, 2]\n",
    "\n",
    "plt.plot(pm25_column)\n",
    "plt.xlabel('Index')\n",
    "plt.ylabel('Values')\n",
    "plt.title('PM2.5 Variation')\n",
    "plt.show()"
   ]
  },
  {
   "cell_type": "code",
   "execution_count": 150,
   "id": "3949031e",
   "metadata": {},
   "outputs": [
    {
     "data": {
      "image/png": "[encoded data removed]",
      "text/plain": [
       "<Figure size 640x480 with 1 Axes>"
      ]
     },
     "metadata": {},
     "output_type": "display_data"
    }
   ],
   "source": [
    "# only plot the first 10 elements in the second and third column of the array\n",
    "# make sure that the two elements do not have the same color\n",
    "pm25_column = arr[:10:, 1]\n",
    "\n",
    "plt.plot(pm25_column)\n",
    "plt.xlabel('Index')\n",
    "plt.ylabel('Values')\n",
    "plt.title('PM2.5 Variation')\n",
    "\n",
    "pm25_column = arr[:10:, 2]\n",
    "\n",
    "plt.plot(pm25_column)\n",
    "plt.xlabel('Index')\n",
    "plt.ylabel('Values')\n",
    "plt.title('PM2.5 Variation')\n",
    "\n",
    "plt.show()"
   ]
  }
 ],
 "metadata": {
  "kernelspec": {
   "display_name": "Python 3 (ipykernel)",
   "language": "python",
   "name": "python3"
  },
  "language_info": {
   "codemirror_mode": {
    "name": "ipython",
    "version": 3
   },
   "file_extension": ".py",
   "mimetype": "text/x-python",
   "name": "python",
   "nbconvert_exporter": "python",
   "pygments_lexer": "ipython3",
   "version": "3.12.1"
  }
 },
 "nbformat": 4,
 "nbformat_minor": 5
}
