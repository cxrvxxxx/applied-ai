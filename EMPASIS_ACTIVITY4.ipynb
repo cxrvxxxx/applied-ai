{
 "cells": [
  {
   "cell_type": "markdown",
   "id": "ef9fc157",
   "metadata": {},
   "source": [
    "# INTRODUCTION\n",
    "\n",
    "Last class meeting, we covered Python data structures such as strings, lists, and tuples. We performed various operations like string manipulation, list manipulation (adding, removing, and modifying elements), and learned about tuples and slicing.\n",
    "\n",
    "In this activity, we explore the remaining data structure in Python: Dictionary and Sets. "
   ]
  },
  {
   "cell_type": "markdown",
   "id": "bd9bc1b4",
   "metadata": {},
   "source": [
    "# DICTIONARY\n",
    "\n",
    "A dictionary in python is a collection of key-value pairs. Each key is associated with a value. Keys must be unique and immutable, while values can be of various types. It can be a number, a string, a list, a tuple or even another dictionary."
   ]
  },
  {
   "cell_type": "markdown",
   "id": "e14a4680",
   "metadata": {},
   "source": [
    "To define a dictionary in Python, use curly braces **```{}```**."
   ]
  },
  {
   "cell_type": "code",
   "execution_count": 3,
   "id": "cbf99689",
   "metadata": {},
   "outputs": [],
   "source": [
    "# Define an empty dictionary and name it empty_dict\n",
    "empty_dict = {}"
   ]
  },
  {
   "cell_type": "code",
   "execution_count": 4,
   "id": "516892ad",
   "metadata": {},
   "outputs": [
    {
     "name": "stdout",
     "output_type": "stream",
     "text": [
      "<class 'dict'>\n"
     ]
    }
   ],
   "source": [
    "# Check if variable empty_dict is of type dictionary\n",
    "print(type(empty_dict))"
   ]
  },
  {
   "cell_type": "markdown",
   "id": "02ca0295",
   "metadata": {},
   "source": [
    "You can also define a non-empty dictionary.\n",
    "\n",
    "> Write a python program and define a non-empty dictionary\n",
    "**```person = {‘first_name’: ‘John’, ‘last_name’: ‘Doe’,  ‘age’: 25, ‘favorite colors’: [‘blue’, ‘green’], ‘active’: True}```**"
   ]
  },
  {
   "cell_type": "code",
   "execution_count": 24,
   "id": "a95c53f5",
   "metadata": {},
   "outputs": [],
   "source": [
    "# Write your code here\n",
    "person = {\n",
    "    'first_name': 'John',\n",
    "    'last_name': 'Doe',\n",
    "    'age': 25,\n",
    "    'favorite colors': ['blue', 'green'],\n",
    "    'active': True\n",
    "}\n"
   ]
  },
  {
   "cell_type": "markdown",
   "id": "ed59db89",
   "metadata": {},
   "source": [
    "Now, let’s perform some dictionary operations in Python, starting with accessing values in a dictionary.\n",
    "\n",
    "There are two ways to access values in Python dictionaries. The first method is using the square bracket notation **```dict[key]```**"
   ]
  },
  {
   "cell_type": "code",
   "execution_count": 14,
   "id": "20975a14",
   "metadata": {},
   "outputs": [
    {
     "name": "stdout",
     "output_type": "stream",
     "text": [
      "John\n",
      "Doe\n"
     ]
    }
   ],
   "source": [
    "# Using the square bracket notation, access the values in person where the keys are first_name and last_name\n",
    "print(person['first_name'])\n",
    "print(person['last_name'])"
   ]
  },
  {
   "cell_type": "markdown",
   "id": "999999d3",
   "metadata": {},
   "source": [
    "*Important Note: Using this method may raise an error if the key does not exist.* \n",
    "\n",
    "Let’s explore that scenario."
   ]
  },
  {
   "cell_type": "code",
   "execution_count": 15,
   "id": "b6a9f26c",
   "metadata": {},
   "outputs": [
    {
     "ename": "KeyError",
     "evalue": "'gender'",
     "output_type": "error",
     "traceback": [
      "\u001b[1;31m---------------------------------------------------------------------------\u001b[0m",
      "\u001b[1;31mKeyError\u001b[0m                                  Traceback (most recent call last)",
      "Cell \u001b[1;32mIn[15], line 3\u001b[0m\n\u001b[0;32m      1\u001b[0m \u001b[38;5;66;03m# Using the square bracket notation, try to access the value in person where the key is gender.\u001b[39;00m\n\u001b[0;32m      2\u001b[0m \u001b[38;5;66;03m# It should output an error\u001b[39;00m\n\u001b[1;32m----> 3\u001b[0m \u001b[38;5;28mprint\u001b[39m(\u001b[43mperson\u001b[49m\u001b[43m[\u001b[49m\u001b[38;5;124;43m'\u001b[39;49m\u001b[38;5;124;43mgender\u001b[39;49m\u001b[38;5;124;43m'\u001b[39;49m\u001b[43m]\u001b[49m)\n",
      "\u001b[1;31mKeyError\u001b[0m: 'gender'"
     ]
    }
   ],
   "source": [
    "# Using the square bracket notation, try to access the value in person where the key is gender.\n",
    "# It should output an error\n",
    "print(person['gender'])"
   ]
  },
  {
   "cell_type": "markdown",
   "id": "4710f571",
   "metadata": {},
   "source": [
    "To prevent this from happening, you need to call the **```get()```** function. Since it will return **```None```**, if the key does not exist.\n",
    "\n",
    "**```var = dict.get(key)```**"
   ]
  },
  {
   "cell_type": "code",
   "execution_count": 16,
   "id": "982c7de7",
   "metadata": {},
   "outputs": [
    {
     "name": "stdout",
     "output_type": "stream",
     "text": [
      "None\n"
     ]
    }
   ],
   "source": [
    "# Access the value in person where the key is gender using the get() function\n",
    "# It will output None\n",
    "print(person.get('gender'))"
   ]
  },
  {
   "cell_type": "markdown",
   "id": "142c9601",
   "metadata": {},
   "source": [
    "The advantage of using this method is that you can change its string output.\n",
    "\n",
    "**```var = dict.get(key, string)```**"
   ]
  },
  {
   "cell_type": "code",
   "execution_count": 18,
   "id": "568306f8",
   "metadata": {},
   "outputs": [
    {
     "name": "stdout",
     "output_type": "stream",
     "text": [
      "The key does not exist\n"
     ]
    }
   ],
   "source": [
    "# Using the get() function, access the value in person where the key is gender.\n",
    "# If the key does not exist, the program should output \"The key does not exist.\"\n",
    "print(person.get('gender', 'The key does not exist'))"
   ]
  },
  {
   "cell_type": "markdown",
   "id": "aea74ab7",
   "metadata": {},
   "source": [
    "### DICTIONARY OPERATIONS\n",
    "\n",
    "1. Adding new key-value pairs: **```dict[key] = value```**\n",
    "\n",
    "Try running the code below and see how it works."
   ]
  },
  {
   "cell_type": "code",
   "execution_count": null,
   "id": "302ba031",
   "metadata": {},
   "outputs": [],
   "source": [
    "person['salary'] = 50000\n",
    "\n",
    "print(person) \n",
    "# the new key-value pair is added in the dictionary "
   ]
  },
  {
   "cell_type": "code",
   "execution_count": 19,
   "id": "4ef77d94",
   "metadata": {},
   "outputs": [
    {
     "name": "stdout",
     "output_type": "stream",
     "text": [
      "{'first_name': 'John', 'last_name': 'Doe', 'age': 25, 'favorite colors': ['blue', 'green'], 'active': True, 'gender': 'Male'}\n"
     ]
    }
   ],
   "source": [
    "# Try adding a new key-value pair: \"gender\" = \"Male\n",
    "person['gender'] = 'Male'\n",
    "\n",
    "print(person)"
   ]
  },
  {
   "cell_type": "markdown",
   "id": "6d5cd27e",
   "metadata": {},
   "source": [
    "2. Modifying values in a key-value pair: **```dict[key] = new_value```**"
   ]
  },
  {
   "cell_type": "code",
   "execution_count": null,
   "id": "3ca6f00e",
   "metadata": {},
   "outputs": [],
   "source": [
    "# This is how to modify values in a key-value pair in a dictionary\n",
    "person[age] = 26\n",
    "\n",
    "print(person)\n",
    "# The value for 'age' is changed"
   ]
  },
  {
   "cell_type": "code",
   "execution_count": 21,
   "id": "8d3ff723",
   "metadata": {},
   "outputs": [
    {
     "name": "stdout",
     "output_type": "stream",
     "text": [
      "{'first_name': 'John', 'last_name': 'Doe', 'age': 25, 'favorite colors': ['blue', 'green'], 'active': True, 'gender': 'Male', 'salary': 100000}\n"
     ]
    }
   ],
   "source": [
    "# Modify the value for 'salary' to 100000\n",
    "person['salary'] = 100000\n",
    "\n",
    "print(person)"
   ]
  },
  {
   "cell_type": "markdown",
   "id": "11cb7bc5",
   "metadata": {},
   "source": [
    "3. Removing key-value pairs: **```del dict[key]```**"
   ]
  },
  {
   "cell_type": "code",
   "execution_count": null,
   "id": "dd70612b",
   "metadata": {},
   "outputs": [],
   "source": [
    "# Delete 'salary' from person\n",
    "del person['salary']\n",
    "\n",
    "print(person)\n",
    "# salary is removed from the dictionary"
   ]
  },
  {
   "cell_type": "code",
   "execution_count": 25,
   "id": "f84f04cd",
   "metadata": {},
   "outputs": [
    {
     "name": "stdout",
     "output_type": "stream",
     "text": [
      "{'first_name': 'John', 'last_name': 'Doe', 'favorite colors': ['blue', 'green'], 'active': True}\n"
     ]
    }
   ],
   "source": [
    "# Delete 'age' from person\n",
    "\n",
    "del person['age']\n",
    "\n",
    "print(person)"
   ]
  },
  {
   "cell_type": "markdown",
   "id": "7a40e1b5",
   "metadata": {},
   "source": [
    "### LOOPS IN DICTIONARY\n",
    "\n",
    "1. Accessing all the key-value pairs in a dictionary.\n",
    "\n",
    "Syntax:\n",
    "\n",
    "**```for key, value in dict.items(): print(f\"{key}: {value}\")```**\n",
    "\n",
    "\n",
    "*The **```items()```** function return an object containing a list of key-value pairs*"
   ]
  },
  {
   "cell_type": "code",
   "execution_count": 26,
   "id": "b9a9694a",
   "metadata": {},
   "outputs": [
    {
     "name": "stdout",
     "output_type": "stream",
     "text": [
      "first_name: John\n",
      "last_name: Doe\n",
      "favorite colors: ['blue', 'green']\n",
      "active: True\n"
     ]
    }
   ],
   "source": [
    "# Implementation in accessing all the key-value pairs in a dictionary\n",
    "for key, value in person.items(): print(f\"{key}: {value}\")"
   ]
  },
  {
   "cell_type": "markdown",
   "id": "a3803233",
   "metadata": {},
   "source": [
    "2. Accessing all the keys in a dictionary\n",
    "\n",
    "By default, you can simply iterate over the dictionary to get its keys."
   ]
  },
  {
   "cell_type": "code",
   "execution_count": 27,
   "id": "01cef182",
   "metadata": {},
   "outputs": [
    {
     "name": "stdout",
     "output_type": "stream",
     "text": [
      "first_name\n",
      "last_name\n",
      "favorite colors\n",
      "active\n"
     ]
    }
   ],
   "source": [
    "# Accessing all the keys in a dictionary\n",
    "for key in person:\n",
    "    print(key)"
   ]
  },
  {
   "cell_type": "markdown",
   "id": "157cb49f",
   "metadata": {},
   "source": [
    "Alternatively, you may call the **```keys()```** function.\n",
    "\n",
    "**```for key in dict.keys()```**"
   ]
  },
  {
   "cell_type": "code",
   "execution_count": 29,
   "id": "65545b47",
   "metadata": {},
   "outputs": [
    {
     "name": "stdout",
     "output_type": "stream",
     "text": [
      "first_name\n",
      "last_name\n",
      "favorite colors\n",
      "active\n"
     ]
    }
   ],
   "source": [
    "# Access all the keys in person using the keys() function\n",
    "for key in person.keys(): print(key)"
   ]
  },
  {
   "cell_type": "markdown",
   "id": "94de67c5",
   "metadata": {},
   "source": [
    "### DICTIONARY COMPREHENSION\n",
    "\n",
    "Another powerful feature of Python dictionaries is dictionary comprehension. It provides a concise and expressive way to create dictionaries based on existing ones or other iterable data structures. \n",
    "\n",
    "Example:"
   ]
  },
  {
   "cell_type": "code",
   "execution_count": 31,
   "id": "3f3940c0",
   "metadata": {},
   "outputs": [],
   "source": [
    "# Let's begin by defining a dictionary\n",
    "stocks = {\n",
    "    'AAPL': 121, \n",
    "    'AMZN': 3380, \n",
    "    'MSFT': 219, \n",
    "    'BIIB': 280, \n",
    "    'QDEL': 266, \n",
    "    'LVGO': 144, \n",
    "}"
   ]
  },
  {
   "cell_type": "markdown",
   "id": "15c1a382",
   "metadata": {},
   "source": [
    "Suppose we have a dictionary called stocks, and we want to increase the stock price by 2%. Traditionally, this could be done using a for loop:"
   ]
  },
  {
   "cell_type": "code",
   "execution_count": 32,
   "id": "3c5fc4c1",
   "metadata": {},
   "outputs": [
    {
     "name": "stdout",
     "output_type": "stream",
     "text": [
      "{'AAPL': 123.42, 'AMZN': 3447.6, 'MSFT': 223.38, 'BIIB': 285.6, 'QDEL': 271.32, 'LVGO': 146.88}\n"
     ]
    }
   ],
   "source": [
    "new_stocks = {}\n",
    "\n",
    "for symbol, price in stocks.items():\n",
    "    new_stocks[symbol] = price*1.02\n",
    "\n",
    "print(new_stocks)"
   ]
  },
  {
   "cell_type": "markdown",
   "id": "4acfc568",
   "metadata": {},
   "source": [
    "However, Python’s dictionary comprehension offers a more elegant and concise solution It follows the syntax: \n",
    "\n",
    "**```{key: value for (key, value) in dict.items() if condition}```**"
   ]
  },
  {
   "cell_type": "code",
   "execution_count": 34,
   "id": "84a06ab3",
   "metadata": {},
   "outputs": [
    {
     "name": "stdout",
     "output_type": "stream",
     "text": [
      "{'AAPL': 123.42, 'AMZN': 3447.6, 'MSFT': 223.38, 'BIIB': 285.6, 'QDEL': 271.32, 'LVGO': 146.88}\n"
     ]
    }
   ],
   "source": [
    "# Let's see how dictionay comprehension works in action\n",
    "# Run the code \n",
    "new_stocks = {company: price*1.02 for (company, price) in stocks.items()}\n",
    "print(new_stocks)\n",
    "# It should have the same output as the for loop implementation"
   ]
  },
  {
   "cell_type": "markdown",
   "id": "113d325b",
   "metadata": {},
   "source": [
    "This code essentially does the same as the for loop implementation, but in a more compact form.\n",
    "\n",
    "#### How does dictionary comprehension work?\n",
    "- It iterates through each key-value pair in the dictionary, applies the specified operation (if any), and filters based on the condition (if provided).\n",
    "\n",
    "- In our example, it increases the price of each stock by 2% and creates a new dictionary **```new_stocks```** with the updated prices.\n"
   ]
  },
  {
   "cell_type": "markdown",
   "id": "142ef8bd",
   "metadata": {},
   "source": [
    "Let’s now explore a scenario where we want to increase the stock price by 2% only if the original price is greater than 200."
   ]
  },
  {
   "cell_type": "code",
   "execution_count": 35,
   "id": "df9e9a91",
   "metadata": {},
   "outputs": [
    {
     "name": "stdout",
     "output_type": "stream",
     "text": [
      "{'AAPL': 121, 'AMZN': 3447.6, 'MSFT': 223.38, 'BIIB': 285.6, 'QDEL': 271.32, 'LVGO': 144}\n"
     ]
    }
   ],
   "source": [
    "# Implement using a for loop\n",
    "new_stocks = {}\n",
    "for company, price in stocks.items():\n",
    "    new_stocks[company] = price * 1.02 if price > 200 else price\n",
    "\n",
    "print(new_stocks)"
   ]
  },
  {
   "cell_type": "code",
   "execution_count": 37,
   "id": "c8837e18",
   "metadata": {},
   "outputs": [
    {
     "name": "stdout",
     "output_type": "stream",
     "text": [
      "{'AAPL': 121, 'AMZN': 3447.6, 'MSFT': 223.38, 'BIIB': 285.6, 'QDEL': 271.32, 'LVGO': 144}\n"
     ]
    }
   ],
   "source": [
    "# Implement using dictionary comprehension\n",
    "new_stocks = {company: price * 1.02 if price > 200 else price for company, price in stocks.items()}\n",
    "print(new_stocks)"
   ]
  },
  {
   "cell_type": "markdown",
   "id": "b4a8f4cd",
   "metadata": {},
   "source": [
    "# SET\n",
    "\n",
    "Now that we’ve covered Python’s dictionary, let’s delve into Python’s Set.\n",
    "\n",
    "#### What is a Set?\n",
    "- A set is an unorder collection of unique, immutable elements. This means that the elements in a set cannot be changed, and duplicates are not allowed. \n",
    "\n",
    "- To define a set, use the curly braces **```{}```**. Let’s see an example:\n"
   ]
  },
  {
   "cell_type": "code",
   "execution_count": 39,
   "id": "3523e7ec",
   "metadata": {},
   "outputs": [
    {
     "name": "stdout",
     "output_type": "stream",
     "text": [
      "<class 'set'>\n",
      "{'Python programming', 'Software design', 'Databases'}\n"
     ]
    }
   ],
   "source": [
    "# Defining a set\n",
    "skills = {'Python programming', 'Databases', 'Software design'}\n",
    "# Outputs type 'set'\n",
    "print(type(skills))\n",
    "# Outputs the all elements in a set\n",
    "print(skills)"
   ]
  },
  {
   "cell_type": "markdown",
   "id": "cc560113",
   "metadata": {},
   "source": [
    "If you want to define an empty set, you must use the **```set()```** function. This is because using the curly braces {} for an empty set will create an empty dictionary. Observe:"
   ]
  },
  {
   "cell_type": "code",
   "execution_count": 40,
   "id": "ec060020",
   "metadata": {},
   "outputs": [
    {
     "name": "stdout",
     "output_type": "stream",
     "text": [
      "<class 'dict'>\n"
     ]
    }
   ],
   "source": [
    "empty_set = {}\n",
    "# Outputs type 'dict'\n",
    "print(type(empty_set))"
   ]
  },
  {
   "cell_type": "code",
   "execution_count": 42,
   "id": "5ef64528",
   "metadata": {},
   "outputs": [
    {
     "name": "stdout",
     "output_type": "stream",
     "text": [
      "<class 'set'>\n"
     ]
    }
   ],
   "source": [
    "empty_set = set()\n",
    "# Outputs type 'set'\n",
    "print(type(empty_set))"
   ]
  },
  {
   "cell_type": "markdown",
   "id": "c3472ce2",
   "metadata": {},
   "source": [
    "An empty set evaluates as **```False```** in Boolean."
   ]
  },
  {
   "cell_type": "code",
   "execution_count": 43,
   "id": "f38cda92",
   "metadata": {},
   "outputs": [
    {
     "name": "stdout",
     "output_type": "stream",
     "text": [
      "Empty sets are falsy.\n"
     ]
    }
   ],
   "source": [
    "skills = set()\n",
    "\n",
    "if not skills:\n",
    "    print(\"Empty sets are falsy.\")"
   ]
  },
  {
   "cell_type": "markdown",
   "id": "9660eda7",
   "metadata": {},
   "source": [
    "You can also create a set from an **iterable** object. For example:"
   ]
  },
  {
   "cell_type": "code",
   "execution_count": 44,
   "id": "fca4ef65",
   "metadata": {},
   "outputs": [
    {
     "name": "stdout",
     "output_type": "stream",
     "text": [
      "{'Critical Thinking', 'Problem solving'}\n"
     ]
    }
   ],
   "source": [
    "skills = set(['Problem solving', 'Critical Thinking'])\n",
    "print(skills)"
   ]
  },
  {
   "cell_type": "markdown",
   "id": "5cdcdb37",
   "metadata": {},
   "source": [
    "*Note: The original order might not be preserved. Also, duplicates in the iterable will be removed*"
   ]
  },
  {
   "cell_type": "code",
   "execution_count": 45,
   "id": "540834a4",
   "metadata": {},
   "outputs": [
    {
     "name": "stdout",
     "output_type": "stream",
     "text": [
      "{'s', 'r', 't', 'e', 'l'}\n"
     ]
    }
   ],
   "source": [
    "characters = set('letters')\n",
    "print(characters)"
   ]
  },
  {
   "cell_type": "markdown",
   "id": "325c40e1",
   "metadata": {},
   "source": [
    "### SET OPERATIONS\n",
    "\n",
    "To check if an element is in a set, use the **```in```** operator."
   ]
  },
  {
   "cell_type": "code",
   "execution_count": 46,
   "id": "be2a4fb1",
   "metadata": {},
   "outputs": [
    {
     "name": "stdout",
     "output_type": "stream",
     "text": [
      "The set contains 1\n"
     ]
    }
   ],
   "source": [
    "ratings = {1, 2, 3, 4, 5}\n",
    "rating = 1\n",
    "if rating in ratings:\n",
    "    print(f\"The set contains {rating}\")"
   ]
  },
  {
   "cell_type": "code",
   "execution_count": 47,
   "id": "f2a6a6ba",
   "metadata": {},
   "outputs": [
    {
     "data": {
      "text/plain": [
       "True"
      ]
     },
     "execution_count": 47,
     "metadata": {},
     "output_type": "execute_result"
    }
   ],
   "source": [
    "# check if element 'Critical Thinking' exist in the skills set\n",
    "'Critical Thinking' in skills"
   ]
  },
  {
   "cell_type": "markdown",
   "id": "b2e05c68",
   "metadata": {},
   "source": [
    "You can also negate the **```in```** operator by adding the **```not```** keyword."
   ]
  },
  {
   "cell_type": "code",
   "execution_count": 49,
   "id": "1033b0ef",
   "metadata": {},
   "outputs": [
    {
     "name": "stdout",
     "output_type": "stream",
     "text": [
      "The set does not contain 6\n"
     ]
    }
   ],
   "source": [
    "rating = 6\n",
    "if rating not in ratings:\n",
    "    print(f\"The set does not contain {rating}\")"
   ]
  },
  {
   "cell_type": "code",
   "execution_count": 50,
   "id": "5f7a811d",
   "metadata": {},
   "outputs": [
    {
     "data": {
      "text/plain": [
       "True"
      ]
     },
     "execution_count": 50,
     "metadata": {},
     "output_type": "execute_result"
    }
   ],
   "source": [
    "# check if element 'Web Development' does not exist in the skills set\n",
    "'Web Development' not in skills"
   ]
  },
  {
   "cell_type": "markdown",
   "id": "9d39c148",
   "metadata": {},
   "source": [
    "Adding new elements to a set by calling the **```add()```** function."
   ]
  },
  {
   "cell_type": "code",
   "execution_count": 51,
   "id": "1716bddf",
   "metadata": {},
   "outputs": [
    {
     "name": "stdout",
     "output_type": "stream",
     "text": [
      "{1, 2, 3, 4, 5, 6}\n"
     ]
    }
   ],
   "source": [
    "# Adding a new element to ratings\n",
    "ratings.add(6)\n",
    "print(ratings)"
   ]
  },
  {
   "cell_type": "code",
   "execution_count": 54,
   "id": "f41a1dc3",
   "metadata": {},
   "outputs": [
    {
     "name": "stdout",
     "output_type": "stream",
     "text": [
      "{'Python Programming', 'Critical Thinking', 'Problem solving', 'Web Development'}\n"
     ]
    }
   ],
   "source": [
    "# Add the elements 'Python Programming' and 'Web Developemnt' in skills set\n",
    "skills.add('Python Programming')\n",
    "skills.add('Web Development')\n",
    "print(skills)"
   ]
  },
  {
   "cell_type": "markdown",
   "id": "975fbac7",
   "metadata": {},
   "source": [
    "To remove an element from a set, use the **```remove()```** function"
   ]
  },
  {
   "cell_type": "code",
   "execution_count": 55,
   "id": "09e31ed5",
   "metadata": {},
   "outputs": [
    {
     "name": "stdout",
     "output_type": "stream",
     "text": [
      "{1, 2, 4, 5, 6}\n"
     ]
    }
   ],
   "source": [
    "ratings.remove(3)\n",
    "print(ratings)"
   ]
  },
  {
   "cell_type": "code",
   "execution_count": 56,
   "id": "d8a010c8",
   "metadata": {},
   "outputs": [
    {
     "name": "stdout",
     "output_type": "stream",
     "text": [
      "{'Python Programming', 'Critical Thinking', 'Problem solving'}\n"
     ]
    }
   ],
   "source": [
    "# Remove the element 'Web Development' from \n",
    "skills.remove('Web Development')\n",
    "print(skills)"
   ]
  },
  {
   "cell_type": "markdown",
   "id": "f202692c",
   "metadata": {},
   "source": [
    "Be cautious in using the **```remove()```** function. If you attempt to remove a non-existing element, it will raise a ‘KeyError’. You can use the **```discard()```** function instead to avoid this error:"
   ]
  },
  {
   "cell_type": "code",
   "execution_count": 57,
   "id": "7e8b3aa3",
   "metadata": {},
   "outputs": [
    {
     "name": "stdout",
     "output_type": "stream",
     "text": [
      "{'Python Programming', 'Critical Thinking', 'Problem solving'}\n"
     ]
    }
   ],
   "source": [
    "# use the discard() function to remove 'Web Development' from skills\n",
    "skills.discard('Web Development')\n",
    "print(skills)"
   ]
  },
  {
   "cell_type": "markdown",
   "id": "7380c759",
   "metadata": {},
   "source": [
    "Or you can use the in operator to check if the element exist before calling the **```remove()```** function"
   ]
  },
  {
   "cell_type": "code",
   "execution_count": 59,
   "id": "b407d01e",
   "metadata": {},
   "outputs": [],
   "source": [
    "if 'Web Development' in skills:\n",
    "# call the remove() function here\n",
    "    skills.remove('Web Development')"
   ]
  },
  {
   "cell_type": "markdown",
   "id": "378010a3",
   "metadata": {},
   "source": [
    "To return an element from a set, you need to call the **```pop()```** function. However, this function returns an unspecified element from a set. So, every time you call it, it will show different outputs."
   ]
  },
  {
   "cell_type": "code",
   "execution_count": 60,
   "id": "02c361d1",
   "metadata": {},
   "outputs": [
    {
     "data": {
      "text/plain": [
       "'Python Programming'"
      ]
     },
     "execution_count": 60,
     "metadata": {},
     "output_type": "execute_result"
    }
   ],
   "source": [
    "# Pop an element from skills\n",
    "skills.pop()"
   ]
  },
  {
   "cell_type": "markdown",
   "id": "01fde426",
   "metadata": {},
   "source": [
    "To remove all the elements from a set, call the **```clear()```** function."
   ]
  },
  {
   "cell_type": "code",
   "execution_count": 62,
   "id": "8c0661f1",
   "metadata": {},
   "outputs": [
    {
     "name": "stdout",
     "output_type": "stream",
     "text": [
      "set()\n"
     ]
    }
   ],
   "source": [
    "# Remove all elements from skills\n",
    "skills.clear()\n",
    "print(skills)"
   ]
  },
  {
   "cell_type": "markdown",
   "id": "4aae07d9",
   "metadata": {},
   "source": [
    "If you need to make a set immutable, use the **```frozenset()```** function.\n",
    "\n",
    "**```new_set = frozenset(set)```**"
   ]
  },
  {
   "cell_type": "code",
   "execution_count": 64,
   "id": "656d20b4",
   "metadata": {},
   "outputs": [],
   "source": [
    "# Turn the skills set into an immutable set\n",
    "new_set = frozenset(skills)"
   ]
  },
  {
   "cell_type": "code",
   "execution_count": 65,
   "id": "0d64c1ee",
   "metadata": {},
   "outputs": [
    {
     "ename": "AttributeError",
     "evalue": "'frozenset' object has no attribute 'add'",
     "output_type": "error",
     "traceback": [
      "\u001b[1;31m---------------------------------------------------------------------------\u001b[0m",
      "\u001b[1;31mAttributeError\u001b[0m                            Traceback (most recent call last)",
      "Cell \u001b[1;32mIn[65], line 3\u001b[0m\n\u001b[0;32m      1\u001b[0m \u001b[38;5;66;03m# Try adding a new element to the immutable set\u001b[39;00m\n\u001b[0;32m      2\u001b[0m \u001b[38;5;66;03m# It will output an error\u001b[39;00m\n\u001b[1;32m----> 3\u001b[0m \u001b[43mnew_set\u001b[49m\u001b[38;5;241;43m.\u001b[39;49m\u001b[43madd\u001b[49m(\u001b[38;5;124m'\u001b[39m\u001b[38;5;124mWeb Development\u001b[39m\u001b[38;5;124m'\u001b[39m)\n",
      "\u001b[1;31mAttributeError\u001b[0m: 'frozenset' object has no attribute 'add'"
     ]
    }
   ],
   "source": [
    "# Try adding a new element to the immutable set\n",
    "# It will output an error\n",
    "new_set.add('Web Development')"
   ]
  },
  {
   "cell_type": "markdown",
   "id": "47dbf0ee",
   "metadata": {},
   "source": [
    "### SET LOOPS\n",
    "\n",
    "There are two ways to loop a set:"
   ]
  },
  {
   "cell_type": "code",
   "execution_count": 68,
   "id": "dd5c4907",
   "metadata": {},
   "outputs": [
    {
     "name": "stdout",
     "output_type": "stream",
     "text": [
      "1\n",
      "2\n",
      "3\n",
      "4\n",
      "5\n"
     ]
    }
   ],
   "source": [
    "# First way is to iterate over the set\n",
    "ratings = {1, 2, 3, 4, 5}\n",
    "\n",
    "for element in ratings:\n",
    "# print the element\n",
    "    print(element)"
   ]
  },
  {
   "cell_type": "code",
   "execution_count": 70,
   "id": "78bec80a",
   "metadata": {},
   "outputs": [
    {
     "name": "stdout",
     "output_type": "stream",
     "text": [
      "0: 1\n",
      "1: 2\n",
      "2: 3\n",
      "3: 4\n",
      "4: 5\n"
     ]
    }
   ],
   "source": [
    "# Second way is using the enumerate() function\n",
    "# enumerate() returns not only the element but also the index of the current element\n",
    "\n",
    "for index, element in enumerate(ratings):\n",
    "# print the index and the element\n",
    "    print(f\"{index}: {element}\")"
   ]
  },
  {
   "cell_type": "markdown",
   "id": "336cfa7d",
   "metadata": {},
   "source": [
    "### SET COMPREHENSION\n",
    "\n",
    "Similar to Python dictionaries, set also offers set comprehension. Syntax: \n",
    "\n",
    "**```{expression for element in set if condition}```**"
   ]
  },
  {
   "cell_type": "markdown",
   "id": "58551433",
   "metadata": {},
   "source": [
    "Example if we want to change the string characters to lowercase inside the **```tags```** set. We can implement it using a for loop:"
   ]
  },
  {
   "cell_type": "code",
   "execution_count": 71,
   "id": "17660310",
   "metadata": {},
   "outputs": [
    {
     "name": "stdout",
     "output_type": "stream",
     "text": [
      "{'numpy', 'dictionary', 'pandas', 'django'}\n"
     ]
    }
   ],
   "source": [
    "tags = {'Django', 'Pandas', 'Numpy', 'Dictionary'}\n",
    "lowercase_tags = set()\n",
    "\n",
    "for tag in tags:\n",
    "    lowercase_tags.add(tag.lower())\n",
    "\n",
    "print(lowercase_tags)"
   ]
  },
  {
   "cell_type": "markdown",
   "id": "69d1c0e3",
   "metadata": {},
   "source": [
    "Now, that we have seen the **```for```** loop implementation. Kindly implement a python code using set comprehension that will change all the characters of the element into lowercase."
   ]
  },
  {
   "cell_type": "code",
   "execution_count": 72,
   "id": "53a99c8f",
   "metadata": {},
   "outputs": [
    {
     "name": "stdout",
     "output_type": "stream",
     "text": [
      "{'numpy', 'dictionary', 'pandas', 'django'}\n"
     ]
    }
   ],
   "source": [
    "# write the set comprehension\n",
    "lowercase_tags = set([tag.lower() for tag in tags])\n",
    "\n",
    "print(lowercase_tags)"
   ]
  },
  {
   "cell_type": "code",
   "execution_count": 73,
   "id": "394194aa",
   "metadata": {},
   "outputs": [
    {
     "name": "stdout",
     "output_type": "stream",
     "text": [
      "{'django', 'Numpy', 'dictionary', 'pandas'}\n"
     ]
    }
   ],
   "source": [
    "# Try also adding a condition where if the element is 'Numpy' it will note be converted to lowercase\n",
    "lowercase_tags = set([tag.lower() if tag != 'Numpy' else tag for tag in tags])\n",
    "print(lowercase_tags)"
   ]
  },
  {
   "cell_type": "markdown",
   "id": "fe680fdd",
   "metadata": {},
   "source": [
    "### SET OPERATIONS\n",
    "\n",
    "Set support various operations such as union, intersection, difference, symmetric difference, subset, superset, and disjoint."
   ]
  },
  {
   "cell_type": "markdown",
   "id": "3eb1c53f",
   "metadata": {},
   "source": [
    "#### UNION\n",
    "\n",
    "The union collects all the elements in set1 and set2. In Python, you can perform the union in two ways: by calling the **```union()```** function or using the **```|```** operator."
   ]
  },
  {
   "cell_type": "code",
   "execution_count": 74,
   "id": "9312fab6",
   "metadata": {},
   "outputs": [],
   "source": [
    "odd_numbers = {1, 3, 5, 7, 9, 11, 13}\n",
    "even_numbers = {2, 4, 6, 8, 10, 12, 14}"
   ]
  },
  {
   "cell_type": "code",
   "execution_count": 76,
   "id": "5c4531f6",
   "metadata": {},
   "outputs": [
    {
     "name": "stdout",
     "output_type": "stream",
     "text": [
      "{1, 2, 3, 4, 5, 6, 7, 8, 9, 10, 11, 12, 13, 14}\n"
     ]
    }
   ],
   "source": [
    "# Implement a python code that will get the union of sets of odd_numbers and even_numbers using the union() \n",
    "numbers = odd_numbers.union(even_numbers)\n",
    "print(numbers)"
   ]
  },
  {
   "cell_type": "code",
   "execution_count": 77,
   "id": "35a60315",
   "metadata": {},
   "outputs": [
    {
     "name": "stdout",
     "output_type": "stream",
     "text": [
      "{1, 2, 3, 4, 5, 6, 7, 8, 9, 10, 11, 12, 13, 14}\n"
     ]
    }
   ],
   "source": [
    "# Implement a python code that will get the union of sets of odd_numbers and even_numbers using the| operator\n",
    "numbers = odd_numbers | even_numbers\n",
    "print(numbers)"
   ]
  },
  {
   "cell_type": "markdown",
   "id": "059a2fc7",
   "metadata": {},
   "source": [
    "The main difference between the two methods is that the **```union()```** function accepts one or more iterable items (not just limited to sets; it can also accept strings or lists) since it will convert them into a set. On the other hand, the **```|```** operator only accepts sets."
   ]
  },
  {
   "cell_type": "markdown",
   "id": "69df48a1",
   "metadata": {},
   "source": [
    "#### INTERSECTION\n",
    "\n",
    "The intersection collects the common elements in set1 and set2. Python offers two ways to perform intersection: by calling the **```intersection()```** function or using the **```&```** operator."
   ]
  },
  {
   "cell_type": "code",
   "execution_count": 80,
   "id": "9f76e037",
   "metadata": {},
   "outputs": [],
   "source": [
    "group_a = {'Thomas', 'Jacky', 'Sharon'}\n",
    "group_b = {'Sharon', 'Angeline', 'Thomas'}"
   ]
  },
  {
   "cell_type": "code",
   "execution_count": 81,
   "id": "7939dfbb",
   "metadata": {},
   "outputs": [
    {
     "name": "stdout",
     "output_type": "stream",
     "text": [
      "{'Thomas', 'Sharon'}\n"
     ]
    }
   ],
   "source": [
    "# Implement a python code that will get the intersection of sets between group_a and group_b using the intersection() function\n",
    "new_set = group_a.intersection(group_b)\n",
    "print(new_set)"
   ]
  },
  {
   "cell_type": "code",
   "execution_count": 82,
   "id": "3889c817",
   "metadata": {},
   "outputs": [
    {
     "name": "stdout",
     "output_type": "stream",
     "text": [
      "{'Thomas', 'Sharon'}\n"
     ]
    }
   ],
   "source": [
    "# Implement a python code that will get the intersection of sets between group_a and group_b using the & operator\n",
    "new_set = group_a & group_b\n",
    "print(new_set)"
   ]
  },
  {
   "cell_type": "markdown",
   "id": "ab3e59b0",
   "metadata": {},
   "source": [
    "The main difference between the two methods is that the **```intersection()```** function accepts one or more iterable items (not just limited to sets; it can also accept strings or lists) since it will convert them into a set. Conversely, the **```&```** operator only accepts sets."
   ]
  },
  {
   "cell_type": "markdown",
   "id": "cc07fa79",
   "metadata": {},
   "source": [
    "#### DIFFERENCE\n",
    "\n",
    "If you are looking for the difference of set A from set B, then it will output the elements that are present in set A that are not found in B. Take note that the set difference is not communicative, meaning new_set = set A – Set B is different from new_set = set B – set A. \n",
    "\n",
    "Python offers two ways to perform difference: by calling the **```difference()```** function or using the **```-```** operator."
   ]
  },
  {
   "cell_type": "code",
   "execution_count": 83,
   "id": "6f84214d",
   "metadata": {},
   "outputs": [
    {
     "name": "stdout",
     "output_type": "stream",
     "text": [
      "{'Jacky'}\n"
     ]
    }
   ],
   "source": [
    "# Implement a code to get the difference of group_a from group_b using the difference() function\n",
    "new_set = group_a.difference(group_b)\n",
    "print(new_set)"
   ]
  },
  {
   "cell_type": "code",
   "execution_count": 84,
   "id": "f986f227",
   "metadata": {},
   "outputs": [
    {
     "name": "stdout",
     "output_type": "stream",
     "text": [
      "{'Jacky'}\n"
     ]
    }
   ],
   "source": [
    "# Implement a code to get the difference of group_b from group_a using the - operator\n",
    "new_set = group_a - group_b\n",
    "print(new_set)"
   ]
  },
  {
   "cell_type": "markdown",
   "id": "2ad6c9d1",
   "metadata": {},
   "source": [
    "*Notice that the output of the two new sets is different.*\n",
    "\n",
    "The main difference between the two methods is that the **```difference()```** function accepts one or more iterable items (not just limited to sets; it can also accept strings or lists) since it will convert them into a set. However, the **```-```** operator only accepts sets."
   ]
  },
  {
   "cell_type": "markdown",
   "id": "8356dfba",
   "metadata": {},
   "source": [
    "#### SYMMETRIC DIFFERENCE\n",
    "\n",
    "The symmetric difference returns the elements of the two sets except their common elements. Python offers two ways to perform symmetric difference: by calling the **```symmetric_difference()```** function or using the **```^```** operator."
   ]
  },
  {
   "cell_type": "code",
   "execution_count": 85,
   "id": "971671d8",
   "metadata": {},
   "outputs": [
    {
     "name": "stdout",
     "output_type": "stream",
     "text": [
      "{'Jacky', 'Angeline'}\n"
     ]
    }
   ],
   "source": [
    "# Implement a code to get the symettric difference of group_a and group_b using the symmetric_difference() \n",
    "new_set = group_a.symmetric_difference(group_b)\n",
    "print(new_set)"
   ]
  },
  {
   "cell_type": "code",
   "execution_count": 86,
   "id": "ab5741ca",
   "metadata": {},
   "outputs": [
    {
     "name": "stdout",
     "output_type": "stream",
     "text": [
      "{'Jacky', 'Angeline'}\n"
     ]
    }
   ],
   "source": [
    "# Implement a code to get the symettric difference of group_a and group_b using the ^ operator\n",
    "new_set = group_a ^ group_b\n",
    "print(new_set)"
   ]
  },
  {
   "cell_type": "markdown",
   "id": "e8fc0905",
   "metadata": {},
   "source": [
    "The main difference between the two methods is that the **```symmetric_difference()```** function accepts one or more iterable items (not just limited to sets; it can also accept strings or lists) since it will convert them into a set. However, the **```^```** operator only accepts sets."
   ]
  },
  {
   "cell_type": "markdown",
   "id": "1e869197",
   "metadata": {},
   "source": [
    "#### SUBSETS, SUPERSETS, AND DISJOINTS\n",
    "\n",
    "1. **Subsets** - can be defined so that all elements of set A are also elements of set B. Remember that set A and set B can be equal, but to be called a proper subset, set A and set B should not be equal. To check if set A is a subset of B, call the **```issubset()```** function.\n",
    "\n",
    "2. **Superset** - in set theory, set A is considered as the superset of set B if all elements of set B are elements of set A. To check if set A is a superset of B, call the **```issuperset()```** function.\n",
    "\n",
    "3. **Disjoint** - in set theory are sets A and B that do not have similar elements. To check if sets A and B are disjoint, call the **```isdisjoint()```** function. "
   ]
  },
  {
   "cell_type": "code",
   "execution_count": 88,
   "id": "f0518fc5",
   "metadata": {},
   "outputs": [],
   "source": [
    "numbers = {1, 2, 3, 4, 5, 6, 7, 8, 9, 10}\n",
    "scores = {1, 2, 3}"
   ]
  },
  {
   "cell_type": "code",
   "execution_count": 89,
   "id": "cc10b4e1",
   "metadata": {},
   "outputs": [
    {
     "data": {
      "text/plain": [
       "True"
      ]
     },
     "execution_count": 89,
     "metadata": {},
     "output_type": "execute_result"
    }
   ],
   "source": [
    "# Write a code that checks if scores is a subset of numbers\n",
    "scores.issubset(numbers)"
   ]
  },
  {
   "cell_type": "code",
   "execution_count": 90,
   "id": "9806fbd1",
   "metadata": {},
   "outputs": [
    {
     "data": {
      "text/plain": [
       "False"
      ]
     },
     "execution_count": 90,
     "metadata": {},
     "output_type": "execute_result"
    }
   ],
   "source": [
    "# Write a code that checks if numbers is a superset of scores\n",
    "scores.issuperset(numbers)"
   ]
  },
  {
   "cell_type": "code",
   "execution_count": 91,
   "id": "a0a18a7a",
   "metadata": {},
   "outputs": [
    {
     "data": {
      "text/plain": [
       "False"
      ]
     },
     "execution_count": 91,
     "metadata": {},
     "output_type": "execute_result"
    }
   ],
   "source": [
    "# Write a code that checks if numbers and scores are disjoi\n",
    "scores.isdisjoint(numbers)"
   ]
  }
 ],
 "metadata": {
  "kernelspec": {
   "display_name": "Python 3 (ipykernel)",
   "language": "python",
   "name": "python3"
  },
  "language_info": {
   "codemirror_mode": {
    "name": "ipython",
    "version": 3
   },
   "file_extension": ".py",
   "mimetype": "text/x-python",
   "name": "python",
   "nbconvert_exporter": "python",
   "pygments_lexer": "ipython3",
   "version": "3.12.1"
  }
 },
 "nbformat": 4,
 "nbformat_minor": 5
}
